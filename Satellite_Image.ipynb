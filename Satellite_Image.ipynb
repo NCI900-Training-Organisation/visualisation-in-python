{
 "cells": [
  {
   "cell_type": "code",
   "execution_count": 1,
   "metadata": {},
   "outputs": [],
   "source": [
    "import os\n",
    "# The jupyter notebook is launched from your $HOME directory.\n",
    "# Change the working directory to the workshop directory\n",
    "# which was created in your username directory under /scratch/vp91\n",
    "os.chdir(os.path.expandvars(\"/scratch/vp91/$USER/\"))"
   ]
  },
  {
   "cell_type": "markdown",
   "metadata": {},
   "source": [
    "# Introduction to  Google Earth Engine using geemap \n",
    "\n",
    "* **Special requirements:** A Google account.\n",
    "\n"
   ]
  },
  {
   "cell_type": "markdown",
   "metadata": {},
   "source": [
    "## Set up Google Earth Eagine (GEE)\n",
    "\n",
    "\n",
    "GEE is essentially a huge computer that stores millions of satellite images captured using different sensors. For example, GEE has the whole Landsat, and Sentinel 2 image archives for all the world. These archives have millions of satellite images, and Google stores a copy of each image in Earth Engine. \n",
    "\n",
    "Not only that, but GEE allows you to view, download, analyse the data using Google's computers instead of using your own. By using GEE we don't have to download any imagery, or spend hours waiting for an analysis to finish.\n",
    "\n",
    "\n",
    "To access GEE, you must have a Google account and a goole cloud project. \n",
    "- You can use your existing Google account or create one from [here](https://myaccount.google.com).\n",
    "- Log in your Google account and register GEE access from [here](https://console.cloud.google.com/earth-engine/welcome).\n",
    "- Follow the steps, choose Unpaid Usage.\n",
    "***"
   ]
  },
  {
   "cell_type": "markdown",
   "metadata": {},
   "source": [
    "## (Brief) Introduction to the `geemap` package"
   ]
  },
  {
   "cell_type": "markdown",
   "metadata": {},
   "source": [
    "Very briefly, `geemap` is a python package created by [Qiusheng Wu](https://github.com/giswqs) from the University of Tennessee, Knoxville.\n",
    "\n",
    "The main aim of `geemap` is to allow: *(i)* interactive mapping with Google Earth Engine (GEE) within python, and *(ii)* usage of additional libraries within python for data analysis and data visualization.\n",
    "\n",
    "You can read more about `geemap` [here](https://github.com/giswqs/geemap)"
   ]
  },
  {
   "cell_type": "markdown",
   "metadata": {},
   "source": [
    "***"
   ]
  },
  {
   "cell_type": "markdown",
   "metadata": {},
   "source": [
    "## Getting started\n"
   ]
  },
  {
   "cell_type": "markdown",
   "metadata": {},
   "source": [
    "### Load packages\n",
    "\n",
    "Import Python packages that are used for the analysis.\n"
   ]
  },
  {
   "cell_type": "code",
   "execution_count": 2,
   "metadata": {
    "ExecuteTime": {
     "end_time": "2022-07-24T11:09:46.242118Z",
     "start_time": "2022-07-24T11:09:41.046804Z"
    },
    "scrolled": true
   },
   "outputs": [],
   "source": [
    "%matplotlib inline\n",
    "\n",
    "import geemap as gmap\n",
    "import ee"
   ]
  },
  {
   "cell_type": "markdown",
   "metadata": {},
   "source": [
    "### Connect to Google Earth Engine (GEE)\n",
    "\n",
    "Connect to the GEE so we can access GEE datasets and computing assets.\n",
    "\n",
    "Next, your Google account will ask you to authenticate, follow the steps and click\n",
    "\n",
    "- Read-only scope\n",
    "- Click all access\n",
    "\n"
   ]
  },
  {
   "cell_type": "code",
   "execution_count": 4,
   "metadata": {},
   "outputs": [
    {
     "data": {
      "text/html": [
       "\n",
       "            <style>\n",
       "                .geemap-dark {\n",
       "                    --jp-widgets-color: white;\n",
       "                    --jp-widgets-label-color: white;\n",
       "                    --jp-ui-font-color1: white;\n",
       "                    --jp-layout-color2: #454545;\n",
       "                    background-color: #383838;\n",
       "                }\n",
       "\n",
       "                .geemap-dark .jupyter-button {\n",
       "                    --jp-layout-color3: #383838;\n",
       "                }\n",
       "\n",
       "                .geemap-colab {\n",
       "                    background-color: var(--colab-primary-surface-color, white);\n",
       "                }\n",
       "\n",
       "                .geemap-colab .jupyter-button {\n",
       "                    --jp-layout-color3: var(--colab-primary-surface-color, white);\n",
       "                }\n",
       "            </style>\n",
       "            "
      ],
      "text/plain": [
       "<IPython.core.display.HTML object>"
      ]
     },
     "metadata": {},
     "output_type": "display_data"
    },
    {
     "data": {
      "text/plain": [
       "True"
      ]
     },
     "execution_count": 4,
     "metadata": {},
     "output_type": "execute_result"
    }
   ],
   "source": [
    "# Trigger the authentication flow.\n",
    "ee.Authenticate()"
   ]
  },
  {
   "cell_type": "markdown",
   "metadata": {},
   "source": [
    "4/1AeanS0ZIhQRKc-XIvMTXO5X5C8Ne5xReJ8VAUekDOWwMJu2ct1IIUM786eU"
   ]
  },
  {
   "cell_type": "markdown",
   "metadata": {},
   "source": [
    "## Load a basemap"
   ]
  },
  {
   "cell_type": "markdown",
   "metadata": {},
   "source": [
    "Let's add a basemap and see what happens. **Basemaps are not data** they are only pretty pictures that allow you to see where you're working, but you cannot do any analysis on them."
   ]
  },
  {
   "cell_type": "code",
   "execution_count": 6,
   "metadata": {
    "ExecuteTime": {
     "end_time": "2022-07-24T11:09:53.205020Z",
     "start_time": "2022-07-24T11:09:52.451223Z"
    }
   },
   "outputs": [
    {
     "data": {
      "text/html": [
       "\n",
       "            <style>\n",
       "                .geemap-dark {\n",
       "                    --jp-widgets-color: white;\n",
       "                    --jp-widgets-label-color: white;\n",
       "                    --jp-ui-font-color1: white;\n",
       "                    --jp-layout-color2: #454545;\n",
       "                    background-color: #383838;\n",
       "                }\n",
       "\n",
       "                .geemap-dark .jupyter-button {\n",
       "                    --jp-layout-color3: #383838;\n",
       "                }\n",
       "\n",
       "                .geemap-colab {\n",
       "                    background-color: var(--colab-primary-surface-color, white);\n",
       "                }\n",
       "\n",
       "                .geemap-colab .jupyter-button {\n",
       "                    --jp-layout-color3: var(--colab-primary-surface-color, white);\n",
       "                }\n",
       "            </style>\n",
       "            "
      ],
      "text/plain": [
       "<IPython.core.display.HTML object>"
      ]
     },
     "metadata": {},
     "output_type": "display_data"
    },
    {
     "data": {
      "application/vnd.jupyter.widget-view+json": {
       "model_id": "7e0f7bb35a1b4a6fb94519aa1d34a22b",
       "version_major": 2,
       "version_minor": 0
      },
      "text/plain": [
       "Map(center=[0, 0], controls=(WidgetControl(options=['position', 'transparent_bg'], widget=SearchDataGUI(childr…"
      ]
     },
     "execution_count": 6,
     "metadata": {},
     "output_type": "execute_result"
    }
   ],
   "source": [
    "Map = gmap.Map()\n",
    "Map"
   ]
  },
  {
   "cell_type": "markdown",
   "metadata": {},
   "source": [
    "Now let's zoom into souteastern Australia. To do that we have to give the `Map` function a few additional instructions."
   ]
  },
  {
   "cell_type": "code",
   "execution_count": 7,
   "metadata": {
    "ExecuteTime": {
     "end_time": "2022-07-24T11:09:54.263632Z",
     "start_time": "2022-07-24T11:09:53.213021Z"
    },
    "scrolled": true
   },
   "outputs": [
    {
     "data": {
      "text/html": [
       "\n",
       "            <style>\n",
       "                .geemap-dark {\n",
       "                    --jp-widgets-color: white;\n",
       "                    --jp-widgets-label-color: white;\n",
       "                    --jp-ui-font-color1: white;\n",
       "                    --jp-layout-color2: #454545;\n",
       "                    background-color: #383838;\n",
       "                }\n",
       "\n",
       "                .geemap-dark .jupyter-button {\n",
       "                    --jp-layout-color3: #383838;\n",
       "                }\n",
       "\n",
       "                .geemap-colab {\n",
       "                    background-color: var(--colab-primary-surface-color, white);\n",
       "                }\n",
       "\n",
       "                .geemap-colab .jupyter-button {\n",
       "                    --jp-layout-color3: var(--colab-primary-surface-color, white);\n",
       "                }\n",
       "            </style>\n",
       "            "
      ],
      "text/plain": [
       "<IPython.core.display.HTML object>"
      ]
     },
     "metadata": {},
     "output_type": "display_data"
    },
    {
     "data": {
      "application/vnd.jupyter.widget-view+json": {
       "model_id": "80aa18c3b08c4d52bea9be7f3be1a853",
       "version_major": 2,
       "version_minor": 0
      },
      "text/plain": [
       "Map(center=[-42, 147], controls=(WidgetControl(options=['position', 'transparent_bg'], widget=SearchDataGUI(ch…"
      ]
     },
     "execution_count": 7,
     "metadata": {},
     "output_type": "execute_result"
    }
   ],
   "source": [
    "# We give the 'center' location, and a 'zoom' level.\n",
    "Map = gmap.Map(center=[-42,147], zoom=7)\n",
    "Map"
   ]
  },
  {
   "cell_type": "markdown",
   "metadata": {},
   "source": [
    "Now try using different zoom values (e.g. 1, and 8)"
   ]
  },
  {
   "cell_type": "code",
   "execution_count": null,
   "metadata": {
    "ExecuteTime": {
     "end_time": "2022-07-24T11:09:54.281932Z",
     "start_time": "2022-07-24T11:09:54.267633Z"
    }
   },
   "outputs": [],
   "source": [
    "# Your code goes here.\n"
   ]
  },
  {
   "cell_type": "markdown",
   "metadata": {},
   "source": [
    "This 'roadmap' is only one of the many basemaps available in GEE.\n",
    "Let's change it to the more familiar 'satellite' basemap. Again, though this basemap is composed of satellite images, it is not data."
   ]
  },
  {
   "cell_type": "code",
   "execution_count": 8,
   "metadata": {
    "ExecuteTime": {
     "end_time": "2022-07-24T11:09:55.596317Z",
     "start_time": "2022-07-24T11:09:54.306153Z"
    }
   },
   "outputs": [
    {
     "data": {
      "text/html": [
       "\n",
       "            <style>\n",
       "                .geemap-dark {\n",
       "                    --jp-widgets-color: white;\n",
       "                    --jp-widgets-label-color: white;\n",
       "                    --jp-ui-font-color1: white;\n",
       "                    --jp-layout-color2: #454545;\n",
       "                    background-color: #383838;\n",
       "                }\n",
       "\n",
       "                .geemap-dark .jupyter-button {\n",
       "                    --jp-layout-color3: #383838;\n",
       "                }\n",
       "\n",
       "                .geemap-colab {\n",
       "                    background-color: var(--colab-primary-surface-color, white);\n",
       "                }\n",
       "\n",
       "                .geemap-colab .jupyter-button {\n",
       "                    --jp-layout-color3: var(--colab-primary-surface-color, white);\n",
       "                }\n",
       "            </style>\n",
       "            "
      ],
      "text/plain": [
       "<IPython.core.display.HTML object>"
      ]
     },
     "metadata": {},
     "output_type": "display_data"
    },
    {
     "data": {
      "application/vnd.jupyter.widget-view+json": {
       "model_id": "8e8c52721b664c92a5f166180198756f",
       "version_major": 2,
       "version_minor": 0
      },
      "text/plain": [
       "Map(center=[-42, 147], controls=(WidgetControl(options=['position', 'transparent_bg'], widget=SearchDataGUI(ch…"
      ]
     },
     "execution_count": 8,
     "metadata": {},
     "output_type": "execute_result"
    }
   ],
   "source": [
    "# We give the 'center' location, and a 'zoom' level.\n",
    "Map = gmap.Map(center=[-42,147], zoom=7)\n",
    "Map.add_basemap(\"SATELLITE\")\n",
    "Map"
   ]
  },
  {
   "cell_type": "markdown",
   "metadata": {},
   "source": [
    "Try adding the following basemaps:\n",
    "\n",
    "\"ROADMAP\", \"OpenStreetMap\", \"SATELLITE\", \"TERRAIN\", \"HYBRID\". You can turn them on/off using the 'wrench' icon at the top right corner."
   ]
  },
  {
   "cell_type": "code",
   "execution_count": null,
   "metadata": {
    "ExecuteTime": {
     "end_time": "2022-07-24T11:09:55.611277Z",
     "start_time": "2022-07-24T11:09:55.603298Z"
    }
   },
   "outputs": [],
   "source": [
    "# Your code goes here.\n"
   ]
  },
  {
   "cell_type": "markdown",
   "metadata": {},
   "source": [
    "***"
   ]
  },
  {
   "cell_type": "markdown",
   "metadata": {},
   "source": [
    "## Load a dataset\n",
    "\n",
    "Now that we've successfully logged into GEE and added a basemap, it's time to add some data.\n",
    "\n",
    "GEE has many datasets you can use for your analysis; you can explore them [here](https://developers.google.com/earth-engine/datasets/catalog).\n",
    "\n",
    "For the moment, we'll load a Digital Elevation Model (DEM) for Australia, and start exploring this dataset. You can read more about this dataset [here](https://ecat.ga.gov.au/geonetwork/srv/eng/catalog.search#/metadata/72759)\n"
   ]
  },
  {
   "cell_type": "code",
   "execution_count": 9,
   "metadata": {
    "ExecuteTime": {
     "end_time": "2022-07-24T11:09:57.339718Z",
     "start_time": "2022-07-24T11:09:55.648179Z"
    },
    "scrolled": true
   },
   "outputs": [
    {
     "data": {
      "text/html": [
       "\n",
       "            <style>\n",
       "                .geemap-dark {\n",
       "                    --jp-widgets-color: white;\n",
       "                    --jp-widgets-label-color: white;\n",
       "                    --jp-ui-font-color1: white;\n",
       "                    --jp-layout-color2: #454545;\n",
       "                    background-color: #383838;\n",
       "                }\n",
       "\n",
       "                .geemap-dark .jupyter-button {\n",
       "                    --jp-layout-color3: #383838;\n",
       "                }\n",
       "\n",
       "                .geemap-colab {\n",
       "                    background-color: var(--colab-primary-surface-color, white);\n",
       "                }\n",
       "\n",
       "                .geemap-colab .jupyter-button {\n",
       "                    --jp-layout-color3: var(--colab-primary-surface-color, white);\n",
       "                }\n",
       "            </style>\n",
       "            "
      ],
      "text/plain": [
       "<IPython.core.display.HTML object>"
      ]
     },
     "metadata": {},
     "output_type": "display_data"
    },
    {
     "data": {
      "application/vnd.jupyter.widget-view+json": {
       "model_id": "eded0d435d364637979c2d736ec593f4",
       "version_major": 2,
       "version_minor": 0
      },
      "text/plain": [
       "Map(center=[-35, 149], controls=(WidgetControl(options=['position', 'transparent_bg'], widget=SearchDataGUI(ch…"
      ]
     },
     "execution_count": 9,
     "metadata": {},
     "output_type": "execute_result"
    }
   ],
   "source": [
    "# To add an Earth Engine dataset we follow these steps:\n",
    "\n",
    "# Create an interactive map. In this practical session we create one every \n",
    "# time, but it's not necessary.\n",
    "Map2 = gmap.Map(center=[-35,149], zoom=4)\n",
    "\n",
    "# Tell GEE which dataset we want, and select a data layer within the dataset.\n",
    "# Here we're selecting the 'elevation' layer from the DEM.\n",
    "dem = ee.Image('AU/GA/DEM_1SEC/v10/DEM-H').select('elevation');\n",
    "\n",
    "# Create a visualisation dictionary where we tell GEE how we want to visualize the data.\n",
    "vis_params = {\n",
    "#     We give minimum and maximum values (ranges of data to show),\n",
    "  'min': -10.0,\n",
    "  'max': 1300.0,\n",
    "    \n",
    "#   And we select the colour palette  \n",
    "  'palette': [\n",
    "      '3ae237', 'b5e22e', 'd6e21f', 'fff705', 'ffd611', 'ffb613', 'ff8b13',\n",
    "    'ff6e08', 'ff500d', 'ff0000', 'de0101', 'c21301', '0602ff', '235cb1',\n",
    "    '307ef3', '269db1', '30c8e2', '32d3ef', '3be285', '3ff38f', '86e26f'],\n",
    "};\n",
    "\n",
    "Map2.addLayer(dem, vis_params, 'GA dem', True, 1)\n",
    "Map2"
   ]
  },
  {
   "cell_type": "markdown",
   "metadata": {},
   "source": [
    "The `addLayer` function in GEE has the following arguments:\n",
    "Arguments:\n",
    "\n",
    "> - `eeObject` (Collection|Feature|Image|RawMapId): The object to add to the map.\n",
    "> - `visParams` (FeatureVisualizationParameters|ImageVisualizationParameters, optional): The visualization parameters. For > > - `Images and ImageCollection`, see ee.data.getMapId for valid parameters. For Features and FeatureCollections, the only supported key is \"color\", as a CSS 3.0 color string or a hex string in \"RRGGBB\" format. Ignored when eeObject is a map ID.\n",
    "> - `name` (String, optional):The name of the layer. Defaults to \"Layer N\".\n",
    "> - `shown` (Boolean, optional):A flag indicating whether the layer should be on by default.\n",
    "> - `opacity` (Number, optional):The layer's opacity represented as a number between 0 and 1. Defaults to 1.\n"
   ]
  },
  {
   "cell_type": "markdown",
   "metadata": {},
   "source": [
    "The map above shows the elevation of all locations in the Australian mainland and Tasmania. We can get the values of each pixel in the dataset by using the GEE 'Inspector Tool', as shown in the image below. Note that the icon may be slightly different in your computer.\n",
    "![1.2_fig7.png](https://github.com/nicolasyounes/engn3903/raw/main/figures/1.2_fig7.png)\n",
    "\n",
    "Use the inspector tool to get the values of the following sites:\n",
    "- Uluru (NT)\n",
    "- Mount Kosciuszko (NSW)\n",
    "- Broome (WA),\n",
    "- Black Mountain (ACT)."
   ]
  },
  {
   "cell_type": "markdown",
   "metadata": {},
   "source": [
    "Notice that you can also control which layers you see, and their transparency. \n",
    "\n",
    "To access the layer controls, just click on the 'wrench' incon on the map's upper right side, and then select the 'layer tab' (red box). \n",
    "Here, you'll see a list of all the layers in the current map."
   ]
  },
  {
   "cell_type": "markdown",
   "metadata": {},
   "source": [
    "***"
   ]
  },
  {
   "cell_type": "markdown",
   "metadata": {},
   "source": [
    "## Load multiple dataset to a single map"
   ]
  },
  {
   "cell_type": "code",
   "execution_count": 10,
   "metadata": {
    "ExecuteTime": {
     "end_time": "2022-07-24T11:10:00.096797Z",
     "start_time": "2022-07-24T11:09:57.376619Z"
    }
   },
   "outputs": [
    {
     "data": {
      "text/html": [
       "\n",
       "            <style>\n",
       "                .geemap-dark {\n",
       "                    --jp-widgets-color: white;\n",
       "                    --jp-widgets-label-color: white;\n",
       "                    --jp-ui-font-color1: white;\n",
       "                    --jp-layout-color2: #454545;\n",
       "                    background-color: #383838;\n",
       "                }\n",
       "\n",
       "                .geemap-dark .jupyter-button {\n",
       "                    --jp-layout-color3: #383838;\n",
       "                }\n",
       "\n",
       "                .geemap-colab {\n",
       "                    background-color: var(--colab-primary-surface-color, white);\n",
       "                }\n",
       "\n",
       "                .geemap-colab .jupyter-button {\n",
       "                    --jp-layout-color3: var(--colab-primary-surface-color, white);\n",
       "                }\n",
       "            </style>\n",
       "            "
      ],
      "text/plain": [
       "<IPython.core.display.HTML object>"
      ]
     },
     "metadata": {},
     "output_type": "display_data"
    },
    {
     "data": {
      "application/vnd.jupyter.widget-view+json": {
       "model_id": "46120b013c9e46e48a075435ab422b28",
       "version_major": 2,
       "version_minor": 0
      },
      "text/plain": [
       "Map(center=[-35, 149], controls=(WidgetControl(options=['position', 'transparent_bg'], widget=SearchDataGUI(ch…"
      ]
     },
     "execution_count": 10,
     "metadata": {},
     "output_type": "execute_result"
    }
   ],
   "source": [
    "# Create a new map and add the satellite basemap\n",
    "Map3 = gmap.Map(center=[-35,149], zoom=4)\n",
    "Map3.add_basemap(\"SATELLITE\")\n",
    "\n",
    "# Add Earth Engine datasets\n",
    "dem = ee.Image('CGIAR/SRTM90_V4').select('elevation')\n",
    "landcover = ee.Image('ESA/GLOBCOVER_L4_200901_200912_V2_3').select('landcover')\n",
    "states = ee.FeatureCollection(\"FAO/GAUL/2015/level1\")\n",
    "\n",
    "# Set visualization parameters for the DEM.\n",
    "vis_params = {\n",
    "    'min': 0,\n",
    "    'max': 8000,\n",
    "    'palette': ['006633', 'E5FFCC', '662A00', 'D8D8D8', 'F5F5F5'],\n",
    "}\n",
    "\n",
    "# Add Earth Eninge layers to Map\n",
    "Map3.addLayer(dem, vis_params, 'SRTM DEM', True, 0.8)\n",
    "Map3.addLayer(landcover, {}, 'ESA Land cover', True, 0.7)\n",
    "Map3.addLayer(states, {}, \"Countries and states\")\n",
    "Map3"
   ]
  },
  {
   "cell_type": "markdown",
   "metadata": {},
   "source": [
    "In the map above, use the inspector tool to see the information of different places on Earth.\n",
    "\n",
    "Try, for example:\n",
    "> - (109.1768, -0.2141),\n",
    "> - (126.5901, 35.7657),\n",
    "> - (-7.1796, 5.9330),\n",
    "> - (249.0571, 54.0533),\n",
    "\n",
    "Did you find anything interesting in any of these places?\n",
    "If so, let us know."
   ]
  },
  {
   "cell_type": "markdown",
   "metadata": {},
   "source": [
    "## Reference\n"
   ]
  }
 ],
 "metadata": {
  "kernelspec": {
   "display_name": "Python 3 (ipykernel)",
   "language": "python",
   "name": "python3"
  },
  "language_info": {
   "codemirror_mode": {
    "name": "ipython",
    "version": 3
   },
   "file_extension": ".py",
   "mimetype": "text/x-python",
   "name": "python",
   "nbconvert_exporter": "python",
   "pygments_lexer": "ipython3",
   "version": "3.9.2"
  },
  "latex_envs": {
   "LaTeX_envs_menu_present": true,
   "autoclose": true,
   "autocomplete": true,
   "bibliofile": "biblio.bib",
   "cite_by": "apalike",
   "current_citInitial": 1,
   "eqLabelWithNumbers": true,
   "eqNumInitial": 1,
   "hotkeys": {
    "equation": "Ctrl-E",
    "itemize": "Ctrl-I"
   },
   "labels_anchors": false,
   "latex_user_defs": false,
   "report_style_numbering": false,
   "user_envs_cfg": false
  },
  "toc": {
   "base_numbering": 1,
   "nav_menu": {},
   "number_sections": true,
   "sideBar": true,
   "skip_h1_title": false,
   "title_cell": "Table of Contents",
   "title_sidebar": "Contents",
   "toc_cell": false,
   "toc_position": {
    "height": "calc(100% - 180px)",
    "left": "10px",
    "top": "150px",
    "width": "384px"
   },
   "toc_section_display": true,
   "toc_window_display": true
  },
  "varInspector": {
   "cols": {
    "lenName": 16,
    "lenType": 16,
    "lenVar": 40
   },
   "kernels_config": {
    "python": {
     "delete_cmd_postfix": "",
     "delete_cmd_prefix": "del ",
     "library": "var_list.py",
     "varRefreshCmd": "print(var_dic_list())"
    },
    "r": {
     "delete_cmd_postfix": ") ",
     "delete_cmd_prefix": "rm(",
     "library": "var_list.r",
     "varRefreshCmd": "cat(var_dic_list()) "
    }
   },
   "types_to_exclude": [
    "module",
    "function",
    "builtin_function_or_method",
    "instance",
    "_Feature"
   ],
   "window_display": false
  },
  "widgets": {
   "application/vnd.jupyter.widget-state+json": {
    "state": {},
    "version_major": 2,
    "version_minor": 0
   }
  }
 },
 "nbformat": 4,
 "nbformat_minor": 4
}
