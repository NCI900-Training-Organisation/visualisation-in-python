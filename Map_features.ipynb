{
 "cells": [
  {
   "cell_type": "code",
   "execution_count": null,
   "metadata": {},
   "outputs": [],
   "source": [
    "import os\n",
    "# The jupyter notebook is launched from your $HOME directory.\n",
    "# Change the working directory to the workshop directory\n",
    "# which was created in your username directory under /scratch/vp91\n",
    "os.chdir(os.path.expandvars(\"/scratch/vp91/$USER/\"))"
   ]
  },
  {
   "cell_type": "markdown",
   "metadata": {},
   "source": [
    "# Feature and Feature collections \n",
    "\n",
    "\n",
    "- **Special requirements:** A Google account, access to Google Earth Engine.\n",
    "\n"
   ]
  },
  {
   "cell_type": "markdown",
   "metadata": {},
   "source": [
    "## Background\n",
    "\n",
    "**Vectors** are, in essence, geometries (lines, points, and polygons) we use for different purposes. Vectors are comprised of mathematical equations that create lines, and curves with fixed points."
   ]
  },
  {
   "cell_type": "markdown",
   "metadata": {},
   "source": [
    "![stuff](https://github.com/nicolasyounes/engn3903/raw/main/figures/3.2_fig1.png)\n",
    "\n",
    "*source: https://2.bp.blogspot.com/-glpTBXbqeJ8/UBtg2hG4SAI/AAAAAAAAAFk/U-AMX2igzu0/s1600/figure1.gif*"
   ]
  },
  {
   "cell_type": "markdown",
   "metadata": {},
   "source": [
    "While not strictly 'remote sensing', vectors are very useful for many analysis in remote sensing. For example, we can extract values from satellite images for specific polygons or points, and compare them. We can also restrict our analysis to certain areas, which, in turn, reduces processing times and the computational resources needed (*this is a good thing*). \n",
    "\n",
    "As a remote sensing specialist you'll have to deal with vectors (e.g. geometries) *and* rasters (e.g. satellite images), so this notebook is dedicated to give you an idea of how we use vectors in common workflows.\n",
    "\n",
    "In Google Earth Engine, a single vector is called a *Feature*, and a group of vectors is called a *Feature Collection*."
   ]
  },
  {
   "cell_type": "markdown",
   "metadata": {},
   "source": [
    "### Load packages\n",
    "Import Python packages that are used for the analysis."
   ]
  },
  {
   "cell_type": "code",
   "execution_count": 1,
   "metadata": {
    "ExecuteTime": {
     "end_time": "2022-07-08T00:16:02.889059Z",
     "start_time": "2022-07-08T00:16:01.187887Z"
    }
   },
   "outputs": [],
   "source": [
    "%matplotlib inline\n",
    "\n",
    "import matplotlib.pyplot as plt\n",
    "import geemap as gmap\n",
    "import ee"
   ]
  },
  {
   "cell_type": "markdown",
   "metadata": {},
   "source": [
    "### Connect to Google Earth Engine (GEE)\n",
    "\n",
    "Connect to the GEE so we can access GEE datasets and computing assets.\n",
    "You may be required to input your Google account name and password. Please keep those safe and don't share them with anyone."
   ]
  },
  {
   "cell_type": "code",
   "execution_count": 3,
   "metadata": {
    "ExecuteTime": {
     "end_time": "2022-07-08T00:16:03.639898Z",
     "start_time": "2022-07-08T00:16:02.895650Z"
    }
   },
   "outputs": [
    {
     "data": {
      "text/html": [
       "\n",
       "            <style>\n",
       "                .geemap-dark {\n",
       "                    --jp-widgets-color: white;\n",
       "                    --jp-widgets-label-color: white;\n",
       "                    --jp-ui-font-color1: white;\n",
       "                    --jp-layout-color2: #454545;\n",
       "                    background-color: #383838;\n",
       "                }\n",
       "\n",
       "                .geemap-dark .jupyter-button {\n",
       "                    --jp-layout-color3: #383838;\n",
       "                }\n",
       "\n",
       "                .geemap-colab {\n",
       "                    background-color: var(--colab-primary-surface-color, white);\n",
       "                }\n",
       "\n",
       "                .geemap-colab .jupyter-button {\n",
       "                    --jp-layout-color3: var(--colab-primary-surface-color, white);\n",
       "                }\n",
       "            </style>\n",
       "            "
      ],
      "text/plain": [
       "<IPython.core.display.HTML object>"
      ]
     },
     "metadata": {},
     "output_type": "display_data"
    }
   ],
   "source": [
    "m = gmap.Map()"
   ]
  },
  {
   "cell_type": "markdown",
   "metadata": {},
   "source": [
    "## Creating vectors\n",
    "\n",
    "### Creating vectors using coodinates\n",
    "Earth Engine handles vector data with the `Geometry` type. The [GeoJSON format](https://datatracker.ietf.org/doc/html/rfc7946) describes in detail the type of geometries supported by Earth Engine, including `Point` (a list of coordinates in some projection), `LineString`(a list of points), `LinearRing` (a closed LineString), and `Polygon` (a list of LinearRings where the first is a shell and subsequent rings are holes). \n",
    "\n",
    "To create a Geometry programmatically, provide the constructor with the proper list(s) of coordinates. For example:"
   ]
  },
  {
   "cell_type": "code",
   "execution_count": 4,
   "metadata": {
    "ExecuteTime": {
     "end_time": "2022-07-08T00:16:03.671819Z",
     "start_time": "2022-07-08T00:16:03.643845Z"
    },
    "scrolled": true
   },
   "outputs": [
    {
     "data": {
      "text/html": [
       "\n",
       "            <style>\n",
       "                .geemap-dark {\n",
       "                    --jp-widgets-color: white;\n",
       "                    --jp-widgets-label-color: white;\n",
       "                    --jp-ui-font-color1: white;\n",
       "                    --jp-layout-color2: #454545;\n",
       "                    background-color: #383838;\n",
       "                }\n",
       "\n",
       "                .geemap-dark .jupyter-button {\n",
       "                    --jp-layout-color3: #383838;\n",
       "                }\n",
       "\n",
       "                .geemap-colab {\n",
       "                    background-color: var(--colab-primary-surface-color, white);\n",
       "                }\n",
       "\n",
       "                .geemap-colab .jupyter-button {\n",
       "                    --jp-layout-color3: var(--colab-primary-surface-color, white);\n",
       "                }\n",
       "            </style>\n",
       "            "
      ],
      "text/plain": [
       "<IPython.core.display.HTML object>"
      ]
     },
     "metadata": {},
     "output_type": "display_data"
    }
   ],
   "source": [
    "# Create a point\n",
    "point = ee.Geometry.Point([-35.3050, 149.1942])\n",
    "\n",
    "# Create a line\n",
    "lineString = ee.Geometry.LineString([\n",
    "    [149.210342, -35.289067],\n",
    "    [149.180467, -35.289628],\n",
    "    [149.181154, -35.318487],\n",
    "    [149.211372, -35.320168]])\n",
    "\n",
    "# Create a linear ring - i.e. a group of lines that starts and ends in the same place\n",
    "linearRing = ee.Geometry.LinearRing([[149.191316, -35.291511],\n",
    "  [149.189803, -35.293858],\n",
    "  [149.191756, -35.294707],\n",
    "  [149.191778, -35.291546],\n",
    "  [149.191316, -35.291511]])\n",
    "\n",
    "# Create a Rectangle\n",
    "rectangle = ee.Geometry.Rectangle(\n",
    "      [[149.118571, -35.313094],       \n",
    "       [149.13059, -35.303463]])\n",
    "\n",
    "# Create a polygon\n",
    "polygon = ee.Geometry.Polygon([[[149.173441, -35.310643],\n",
    "      [149.170179, -35.311623],\n",
    "      [149.169492, -35.314565],\n",
    "      [149.169663, -35.317366],\n",
    "      [149.170951, -35.318697],\n",
    "      [149.173613, -35.318977],\n",
    "      [149.175244, -35.318487],\n",
    "      [149.176274, -35.316806],\n",
    "      [149.177304, -35.314285],\n",
    "      [149.175244, -35.310923],\n",
    "      [149.173441, -35.310643]]])"
   ]
  },
  {
   "cell_type": "code",
   "execution_count": 5,
   "metadata": {
    "ExecuteTime": {
     "end_time": "2022-07-08T00:16:08.144028Z",
     "start_time": "2022-07-08T00:16:03.679058Z"
    }
   },
   "outputs": [
    {
     "data": {
      "text/html": [
       "\n",
       "            <style>\n",
       "                .geemap-dark {\n",
       "                    --jp-widgets-color: white;\n",
       "                    --jp-widgets-label-color: white;\n",
       "                    --jp-ui-font-color1: white;\n",
       "                    --jp-layout-color2: #454545;\n",
       "                    background-color: #383838;\n",
       "                }\n",
       "\n",
       "                .geemap-dark .jupyter-button {\n",
       "                    --jp-layout-color3: #383838;\n",
       "                }\n",
       "\n",
       "                .geemap-colab {\n",
       "                    background-color: var(--colab-primary-surface-color, white);\n",
       "                }\n",
       "\n",
       "                .geemap-colab .jupyter-button {\n",
       "                    --jp-layout-color3: var(--colab-primary-surface-color, white);\n",
       "                }\n",
       "            </style>\n",
       "            "
      ],
      "text/plain": [
       "<IPython.core.display.HTML object>"
      ]
     },
     "metadata": {},
     "output_type": "display_data"
    },
    {
     "data": {
      "application/vnd.jupyter.widget-view+json": {
       "model_id": "921fb349465c4c5ea804ae9ba84058ab",
       "version_major": 2,
       "version_minor": 0
      },
      "text/plain": [
       "Map(center=[-35.305, 149.1942], controls=(WidgetControl(options=['position', 'transparent_bg'], widget=SearchD…"
      ]
     },
     "execution_count": 5,
     "metadata": {},
     "output_type": "execute_result"
    }
   ],
   "source": [
    "# Let's add the polygons to the map\n",
    "Map = gmap.Map(center=[-35.3050,149.1942], zoom=12)\n",
    "Map.add_basemap('SATELLITE')\n",
    "\n",
    "Map.addLayer(point,{'color':'red'},'a point - red')\n",
    "Map.addLayer(lineString,{'color':'magenta'},'a line string - magenta')\n",
    "Map.addLayer(linearRing,{'color':'yellow'},'a linear Ring - yellow')\n",
    "Map.addLayer(rectangle,{'color':'purple'},'a rectangle - purple')\n",
    "Map.addLayer(polygon,{'color':'blue'},'a polygon - blue')\n",
    "Map.addLayerControl()\n",
    "Map"
   ]
  },
  {
   "cell_type": "markdown",
   "metadata": {
    "ExecuteTime": {
     "end_time": "2022-06-16T01:08:42.467269Z",
     "start_time": "2022-06-16T01:08:42.077980Z"
    }
   },
   "source": [
    "In the previous examples, note that the distinction between a `LineString` and a `LinearRing` is that the `LinearRing` is “closed” by having the same coordinate at both the start and end of the list.\n"
   ]
  },
  {
   "cell_type": "markdown",
   "metadata": {},
   "source": [
    "## Uploading vectors to geemap\n",
    "\n",
    "We can also upload a vector from a file-path (if its stored on our computer), or from a URL. Below we will add a geojson from a github page URL."
   ]
  },
  {
   "cell_type": "code",
   "execution_count": 6,
   "metadata": {
    "ExecuteTime": {
     "end_time": "2022-07-08T00:23:26.885976Z",
     "start_time": "2022-07-08T00:23:26.874057Z"
    }
   },
   "outputs": [
    {
     "data": {
      "text/html": [
       "\n",
       "            <style>\n",
       "                .geemap-dark {\n",
       "                    --jp-widgets-color: white;\n",
       "                    --jp-widgets-label-color: white;\n",
       "                    --jp-ui-font-color1: white;\n",
       "                    --jp-layout-color2: #454545;\n",
       "                    background-color: #383838;\n",
       "                }\n",
       "\n",
       "                .geemap-dark .jupyter-button {\n",
       "                    --jp-layout-color3: #383838;\n",
       "                }\n",
       "\n",
       "                .geemap-colab {\n",
       "                    background-color: var(--colab-primary-surface-color, white);\n",
       "                }\n",
       "\n",
       "                .geemap-colab .jupyter-button {\n",
       "                    --jp-layout-color3: var(--colab-primary-surface-color, white);\n",
       "                }\n",
       "            </style>\n",
       "            "
      ],
      "text/plain": [
       "<IPython.core.display.HTML object>"
      ]
     },
     "metadata": {},
     "output_type": "display_data"
    },
    {
     "data": {
      "application/vnd.jupyter.widget-view+json": {
       "model_id": "2c162055fab34dcbb66ffe0532363ea7",
       "version_major": 2,
       "version_minor": 0
      },
      "text/plain": [
       "Map(center=[-31.305, 149.1942], controls=(WidgetControl(options=['position', 'transparent_bg'], widget=SearchD…"
      ]
     },
     "execution_count": 6,
     "metadata": {},
     "output_type": "execute_result"
    }
   ],
   "source": [
    "geojson_path = 'https://raw.githubusercontent.com/nicolasyounes/engn3903/main/figures/example.geojson'\n",
    "Map = gmap.Map(center=[-31.3050,149.1942], zoom=4)\n",
    "Map.add_basemap('SATELLITE')\n",
    "Map.add_geojson(geojson_path, layer_name='Example') #add the geojson here\n",
    "Map"
   ]
  },
  {
   "cell_type": "markdown",
   "metadata": {},
   "source": [
    "## Planar versus Geodesic geometries"
   ]
  },
  {
   "cell_type": "markdown",
   "metadata": {},
   "source": [
    "A geometry created in Earth Engine is either geodesic (i.e. edges are the shortest path on the surface of a sphere) or planar (i.e. edges are the shortest path in a 2-D Cartesian plane). No one planar coordinate system is suitable for global collections of geometries, so Earth Engine's geometry constructors build geodesic geometries by default. To make a planar geometry, constructors have a geodesic parameter that can be set to false:"
   ]
  },
  {
   "cell_type": "code",
   "execution_count": 7,
   "metadata": {
    "ExecuteTime": {
     "end_time": "2022-07-08T00:23:30.665326Z",
     "start_time": "2022-07-08T00:23:27.045991Z"
    }
   },
   "outputs": [
    {
     "data": {
      "text/html": [
       "\n",
       "            <style>\n",
       "                .geemap-dark {\n",
       "                    --jp-widgets-color: white;\n",
       "                    --jp-widgets-label-color: white;\n",
       "                    --jp-ui-font-color1: white;\n",
       "                    --jp-layout-color2: #454545;\n",
       "                    background-color: #383838;\n",
       "                }\n",
       "\n",
       "                .geemap-dark .jupyter-button {\n",
       "                    --jp-layout-color3: #383838;\n",
       "                }\n",
       "\n",
       "                .geemap-colab {\n",
       "                    background-color: var(--colab-primary-surface-color, white);\n",
       "                }\n",
       "\n",
       "                .geemap-colab .jupyter-button {\n",
       "                    --jp-layout-color3: var(--colab-primary-surface-color, white);\n",
       "                }\n",
       "            </style>\n",
       "            "
      ],
      "text/plain": [
       "<IPython.core.display.HTML object>"
      ]
     },
     "metadata": {},
     "output_type": "display_data"
    },
    {
     "data": {
      "application/vnd.jupyter.widget-view+json": {
       "model_id": "2d1bd71507e04431b1478133b692aa1a",
       "version_major": 2,
       "version_minor": 0
      },
      "text/plain": [
       "Map(center=[-31.305, 149.1942], controls=(WidgetControl(options=['position', 'transparent_bg'], widget=SearchD…"
      ]
     },
     "execution_count": 7,
     "metadata": {},
     "output_type": "execute_result"
    }
   ],
   "source": [
    "# Here we create two polygons, one planar, one geodesic.\n",
    "planarPolygon = ee.Geometry.Polygon([[115, -34],\n",
    "      [115, -21],\n",
    "      [152, -21],\n",
    "      [152, -34],\n",
    "      [115, -34]], None, False)\n",
    "\n",
    "geodesicPolygon = ee.Geometry.Polygon([[115, -34],\n",
    "      [115, -21],\n",
    "      [152, -21],\n",
    "      [152, -34],\n",
    "      [115, -34]])\n",
    "\n",
    "# Now let's see the differences in the map\n",
    "Map = gmap.Map(center=[-31.3050,149.1942], zoom=4)\n",
    "Map.centerObject(geodesicPolygon)\n",
    "Map.addLayer(geodesicPolygon, {'color':'red'}, 'geodesic Polygon')\n",
    "Map.addLayer(planarPolygon, {'color':'blue'}, 'planar Polygon')\n",
    "Map.addLayerControl()\n",
    "Map"
   ]
  },
  {
   "cell_type": "markdown",
   "metadata": {
    "ExecuteTime": {
     "end_time": "2022-06-16T09:03:53.499055Z",
     "start_time": "2022-06-16T09:03:53.479095Z"
    },
    "tags": []
   },
   "source": [
    "## Geometry information and metadata\n",
    "\n",
    "To view information about a geometry, we can just print it. To access the information programmatically, Earth Engine provides several methods. For example, to get information about the polygon created previously, use:"
   ]
  },
  {
   "cell_type": "code",
   "execution_count": 7,
   "metadata": {
    "ExecuteTime": {
     "end_time": "2022-07-08T00:23:34.456009Z",
     "start_time": "2022-07-08T00:23:30.675305Z"
    }
   },
   "outputs": [
    {
     "data": {
      "text/html": [
       "\n",
       "            <style>\n",
       "                .geemap-dark {\n",
       "                    --jp-widgets-color: white;\n",
       "                    --jp-widgets-label-color: white;\n",
       "                    --jp-ui-font-color1: white;\n",
       "                    --jp-layout-color2: #454545;\n",
       "                    background-color: #383838;\n",
       "                }\n",
       "\n",
       "                .geemap-dark .jupyter-button {\n",
       "                    --jp-layout-color3: #383838;\n",
       "                }\n",
       "\n",
       "                .geemap-colab {\n",
       "                    background-color: var(--colab-primary-surface-color, white);\n",
       "                }\n",
       "\n",
       "                .geemap-colab .jupyter-button {\n",
       "                    --jp-layout-color3: var(--colab-primary-surface-color, white);\n",
       "                }\n",
       "            </style>\n",
       "            "
      ],
      "text/plain": [
       "<IPython.core.display.HTML object>"
      ]
     },
     "metadata": {},
     "output_type": "display_data"
    },
    {
     "name": "stdout",
     "output_type": "stream",
     "text": [
      "Polygon printout: {'type': 'Polygon', 'coordinates': [[[149.173441, -35.310643], [149.170179, -35.311623], [149.169492, -35.314565], [149.169663, -35.317366], [149.170951, -35.318697], [149.173613, -35.318977], [149.175244, -35.318487], [149.176274, -35.316806], [149.177304, -35.314285], [149.175244, -35.310923], [149.173441, -35.310643]]]}\n",
      "\n",
      "\n",
      "Polygon area: 505677.82318172534 square meters\n",
      "\n",
      "\n",
      "Polygon perimeter: 2637.8714035840558 meters\n",
      "\n",
      "\n",
      "Geometry type: Polygon\n",
      "\n",
      "\n",
      "Polygon coordinates: [[[149.173441, -35.310643], [149.170179, -35.311623], [149.169492, -35.314565], [149.169663, -35.317366], [149.170951, -35.318697], [149.173613, -35.318977], [149.175244, -35.318487], [149.176274, -35.316806], [149.177304, -35.314285], [149.175244, -35.310923], [149.173441, -35.310643]]]\n",
      "\n",
      "\n",
      "Geodesic? True\n"
     ]
    }
   ],
   "source": [
    "# Print the information of the polygon. Remember that this polygon was defined in section 1.2.1\n",
    "print(f'Polygon printout: {polygon.getInfo()}', )\n",
    "print('\\n') #This prints a white line for easier reading and interpretation.\n",
    "\n",
    "# Print polygon area in square meters.\n",
    "print(f'Polygon area: {polygon.area().getInfo()} square meters')\n",
    "print('\\n')\n",
    "\n",
    "# Print polygon perimeter length in kilometers.\n",
    "print(f'Polygon perimeter: {polygon.perimeter().getInfo()} meters', )\n",
    "print('\\n')\n",
    "\n",
    "# Print the GeoJSON 'type'\n",
    "print(f'Geometry type: {polygon.type().getInfo()}', )\n",
    "print('\\n')\n",
    "\n",
    "# Print the coordinates as lists\n",
    "print(f'Polygon coordinates: {polygon.coordinates().getInfo()}', )\n",
    "print('\\n')\n",
    "\n",
    "# Print whether the geometry is geodesic.\n",
    "print(f'Geodesic? {polygon.geodesic().getInfo()}', )      "
   ]
  },
  {
   "cell_type": "markdown",
   "metadata": {
    "ExecuteTime": {
     "end_time": "2022-06-16T09:12:22.540396Z",
     "start_time": "2022-06-16T09:12:22.530094Z"
    }
   },
   "source": [
    "Note that the perimeter (or length) of a geometry is returned in meters and the area is returned in square meters unless a projection is specified. By default, the computation is performed on the WGS84 spheroid and the result is computed in meters or square meters. Sometimes, however, we need to use units different from square meters; so let's calculate the  area of the polygon in square kilometers."
   ]
  },
  {
   "cell_type": "code",
   "execution_count": 10,
   "metadata": {
    "ExecuteTime": {
     "end_time": "2022-07-08T00:23:35.605359Z",
     "start_time": "2022-07-08T00:23:34.460998Z"
    }
   },
   "outputs": [
    {
     "data": {
      "text/html": [
       "\n",
       "            <style>\n",
       "                .geemap-dark {\n",
       "                    --jp-widgets-color: white;\n",
       "                    --jp-widgets-label-color: white;\n",
       "                    --jp-ui-font-color1: white;\n",
       "                    --jp-layout-color2: #454545;\n",
       "                    background-color: #383838;\n",
       "                }\n",
       "\n",
       "                .geemap-dark .jupyter-button {\n",
       "                    --jp-layout-color3: #383838;\n",
       "                }\n",
       "\n",
       "                .geemap-colab {\n",
       "                    background-color: var(--colab-primary-surface-color, white);\n",
       "                }\n",
       "\n",
       "                .geemap-colab .jupyter-button {\n",
       "                    --jp-layout-color3: var(--colab-primary-surface-color, white);\n",
       "                }\n",
       "            </style>\n",
       "            "
      ],
      "text/plain": [
       "<IPython.core.display.HTML object>"
      ]
     },
     "metadata": {},
     "output_type": "display_data"
    },
    {
     "name": "stdout",
     "output_type": "stream",
     "text": [
      "Polygon area: 0.5056778231817254 km^2\n",
      "Polygon perimeter: 2.6378714035840556 km\n"
     ]
    }
   ],
   "source": [
    "# Print polygon area in square kilometers.\n",
    "print(f'Polygon area: {polygon.area().divide(1000 * 1000).getInfo()} km^2')\n",
    "\n",
    "# Print polygon perimeter length in kilometers.\n",
    "print(f'Polygon perimeter: {polygon.perimeter().divide(1000).getInfo()} km', )"
   ]
  },
  {
   "cell_type": "markdown",
   "metadata": {
    "colab_type": "text",
    "id": "a4HF2kI0VLPL"
   },
   "source": [
    "## Geometric Operations with geometries\n",
    "\n",
    "Earth Engine supports a wide variety of operations on `Geometry` objects. These include operations on individual geometries such as computing a buffer, centroid, bounding box, perimeter, convex hull, etc. For example:\n",
    "\n"
   ]
  },
  {
   "cell_type": "code",
   "execution_count": 8,
   "metadata": {
    "ExecuteTime": {
     "end_time": "2022-07-08T00:23:38.166916Z",
     "start_time": "2022-07-08T00:23:35.611347Z"
    },
    "colab": {
     "base_uri": "https://localhost:8080/",
     "height": 682
    },
    "colab_type": "code",
    "id": "Br8QutLoRcU7",
    "outputId": "b96e3a68-7a53-4a5b-db4c-8c7c2fd38bfc"
   },
   "outputs": [
    {
     "data": {
      "text/html": [
       "\n",
       "            <style>\n",
       "                .geemap-dark {\n",
       "                    --jp-widgets-color: white;\n",
       "                    --jp-widgets-label-color: white;\n",
       "                    --jp-ui-font-color1: white;\n",
       "                    --jp-layout-color2: #454545;\n",
       "                    background-color: #383838;\n",
       "                }\n",
       "\n",
       "                .geemap-dark .jupyter-button {\n",
       "                    --jp-layout-color3: #383838;\n",
       "                }\n",
       "\n",
       "                .geemap-colab {\n",
       "                    background-color: var(--colab-primary-surface-color, white);\n",
       "                }\n",
       "\n",
       "                .geemap-colab .jupyter-button {\n",
       "                    --jp-layout-color3: var(--colab-primary-surface-color, white);\n",
       "                }\n",
       "            </style>\n",
       "            "
      ],
      "text/plain": [
       "<IPython.core.display.HTML object>"
      ]
     },
     "metadata": {},
     "output_type": "display_data"
    },
    {
     "data": {
      "application/vnd.jupyter.widget-view+json": {
       "model_id": "083171cee9ef4d76982e202814ec6809",
       "version_major": 2,
       "version_minor": 0
      },
      "text/plain": [
       "Map(center=[-31.305, 149.1942], controls=(WidgetControl(options=['position', 'transparent_bg'], widget=SearchD…"
      ]
     },
     "execution_count": 8,
     "metadata": {},
     "output_type": "execute_result"
    }
   ],
   "source": [
    "# Let's re-use the geodesicPolygon we created above.\n",
    "\n",
    "# Compute a buffer of the geodesicPolygon.\n",
    "buffer = geodesicPolygon.buffer(100000)\n",
    "\n",
    "# Compute the centroid of the geodesicPolygon.\n",
    "centroid = geodesicPolygon.centroid()\n",
    "\n",
    "Map2 = gmap.Map(center=[-31.3050,149.1942], zoom=4)\n",
    "Map2.centerObject(buffer)\n",
    "Map2.addLayer(centroid, {'color':'blue'}, 'centroid')\n",
    "Map2.addLayer(buffer, {'color':'yellow'}, 'buffered Polygon')\n",
    "Map2.addLayer(geodesicPolygon, {'color':'red'}, 'geodesic Polygon')\n",
    "Map2.addLayerControl()\n",
    "Map2"
   ]
  },
  {
   "cell_type": "markdown",
   "metadata": {
    "colab_type": "text",
    "id": "TzPvY1830Y7T"
   },
   "source": [
    "Observe from the previous example that the buffer distance is specified in meters (i.e. 100,000 m)."
   ]
  },
  {
   "cell_type": "markdown",
   "metadata": {
    "colab_type": "text",
    "id": "KRNSz_QI9bkW"
   },
   "source": [
    "The following examples computes and visualizes derived geometries based on the relationship (set operations like unions and intersections) between two polygons. These kinds of set operations can be really useful when trying to filter data by subsets."
   ]
  },
  {
   "cell_type": "code",
   "execution_count": 9,
   "metadata": {
    "ExecuteTime": {
     "end_time": "2022-07-08T00:23:41.569162Z",
     "start_time": "2022-07-08T00:23:38.170868Z"
    },
    "colab": {
     "base_uri": "https://localhost:8080/",
     "height": 682
    },
    "colab_type": "code",
    "id": "xkLNSVOh9fJp",
    "outputId": "bc7e6e7c-bbb8-4a8c-d0e8-95a40fd6c204"
   },
   "outputs": [
    {
     "data": {
      "text/html": [
       "\n",
       "            <style>\n",
       "                .geemap-dark {\n",
       "                    --jp-widgets-color: white;\n",
       "                    --jp-widgets-label-color: white;\n",
       "                    --jp-ui-font-color1: white;\n",
       "                    --jp-layout-color2: #454545;\n",
       "                    background-color: #383838;\n",
       "                }\n",
       "\n",
       "                .geemap-dark .jupyter-button {\n",
       "                    --jp-layout-color3: #383838;\n",
       "                }\n",
       "\n",
       "                .geemap-colab {\n",
       "                    background-color: var(--colab-primary-surface-color, white);\n",
       "                }\n",
       "\n",
       "                .geemap-colab .jupyter-button {\n",
       "                    --jp-layout-color3: var(--colab-primary-surface-color, white);\n",
       "                }\n",
       "            </style>\n",
       "            "
      ],
      "text/plain": [
       "<IPython.core.display.HTML object>"
      ]
     },
     "metadata": {},
     "output_type": "display_data"
    }
   ],
   "source": [
    "# First, lets create two circular geometries.\n",
    "circle1 = ee.Geometry.Point([128, -25]).buffer(1e6)\n",
    "circle2 = ee.Geometry.Point([138, -25]).buffer(1e6)\n",
    "\n",
    "# Display polygon 1 in red and polygon 2 in blue.\n",
    "Map2.centerObject(circle1)\n",
    "Map2.addLayer(circle1, {'color':'red'}, 'circle1')\n",
    "Map2.addLayer(circle2, {'color':'blue'}, 'circle2')\n"
   ]
  },
  {
   "cell_type": "markdown",
   "metadata": {},
   "source": [
    "In these examples below, note that that `maxError` parameter is set to one meter for the geometry operations. The `maxError` is the maximum allowable error, in meters, from transformations (such as projection or reprojection) that may alter the geometry. If one of the geometries is in a different projection from the other, Earth Engine will do the computation in a spherical coordinate system, with a projection precision given by `maxError`. You can also specify a specific projection in which to do the computation, if necessary."
   ]
  },
  {
   "cell_type": "code",
   "execution_count": 13,
   "metadata": {
    "ExecuteTime": {
     "end_time": "2022-07-08T00:23:42.214473Z",
     "start_time": "2022-07-08T00:23:41.573148Z"
    },
    "colab": {
     "base_uri": "https://localhost:8080/",
     "height": 682
    },
    "colab_type": "code",
    "id": "j3tNKysnHlRO",
    "outputId": "b1c8eb5a-5e0b-4771-875f-30ca78ec052a"
   },
   "outputs": [
    {
     "data": {
      "text/html": [
       "\n",
       "            <style>\n",
       "                .geemap-dark {\n",
       "                    --jp-widgets-color: white;\n",
       "                    --jp-widgets-label-color: white;\n",
       "                    --jp-ui-font-color1: white;\n",
       "                    --jp-layout-color2: #454545;\n",
       "                    background-color: #383838;\n",
       "                }\n",
       "\n",
       "                .geemap-dark .jupyter-button {\n",
       "                    --jp-layout-color3: #383838;\n",
       "                }\n",
       "\n",
       "                .geemap-colab {\n",
       "                    background-color: var(--colab-primary-surface-color, white);\n",
       "                }\n",
       "\n",
       "                .geemap-colab .jupyter-button {\n",
       "                    --jp-layout-color3: var(--colab-primary-surface-color, white);\n",
       "                }\n",
       "            </style>\n",
       "            "
      ],
      "text/plain": [
       "<IPython.core.display.HTML object>"
      ]
     },
     "metadata": {},
     "output_type": "display_data"
    }
   ],
   "source": [
    "# Compute the intersection, display it in cyan.\n",
    "intersection = circle1.intersection(circle2, ee.ErrorMargin(1))\n",
    "\n",
    "Map2.addLayer(intersection, {'color':'cyan'}, 'intersection of 2 polygons')"
   ]
  },
  {
   "cell_type": "code",
   "execution_count": 14,
   "metadata": {
    "ExecuteTime": {
     "end_time": "2022-07-08T00:23:42.602558Z",
     "start_time": "2022-07-08T00:23:42.217709Z"
    },
    "colab": {
     "base_uri": "https://localhost:8080/",
     "height": 682
    },
    "colab_type": "code",
    "id": "64FnnBVGHxQh",
    "outputId": "79246e98-df5e-4913-8e82-aa1d77cd4f82"
   },
   "outputs": [
    {
     "data": {
      "text/html": [
       "\n",
       "            <style>\n",
       "                .geemap-dark {\n",
       "                    --jp-widgets-color: white;\n",
       "                    --jp-widgets-label-color: white;\n",
       "                    --jp-ui-font-color1: white;\n",
       "                    --jp-layout-color2: #454545;\n",
       "                    background-color: #383838;\n",
       "                }\n",
       "\n",
       "                .geemap-dark .jupyter-button {\n",
       "                    --jp-layout-color3: #383838;\n",
       "                }\n",
       "\n",
       "                .geemap-colab {\n",
       "                    background-color: var(--colab-primary-surface-color, white);\n",
       "                }\n",
       "\n",
       "                .geemap-colab .jupyter-button {\n",
       "                    --jp-layout-color3: var(--colab-primary-surface-color, white);\n",
       "                }\n",
       "            </style>\n",
       "            "
      ],
      "text/plain": [
       "<IPython.core.display.HTML object>"
      ]
     },
     "metadata": {},
     "output_type": "display_data"
    }
   ],
   "source": [
    "# Compute the union, display it in magenta.\n",
    "union = circle1.union(circle2, ee.ErrorMargin(1))\n",
    "\n",
    "Map2.addLayer(union, {'color':'magenta'}, 'union of 2 polygons')"
   ]
  },
  {
   "cell_type": "code",
   "execution_count": 16,
   "metadata": {
    "ExecuteTime": {
     "end_time": "2022-07-08T00:23:43.130988Z",
     "start_time": "2022-07-08T00:23:42.607238Z"
    },
    "colab": {
     "base_uri": "https://localhost:8080/",
     "height": 682
    },
    "colab_type": "code",
    "id": "LhEBR-e_H-sO",
    "outputId": "aa6b3eb3-2422-4c13-93f7-c4fd353158ed"
   },
   "outputs": [
    {
     "data": {
      "text/html": [
       "\n",
       "            <style>\n",
       "                .geemap-dark {\n",
       "                    --jp-widgets-color: white;\n",
       "                    --jp-widgets-label-color: white;\n",
       "                    --jp-ui-font-color1: white;\n",
       "                    --jp-layout-color2: #454545;\n",
       "                    background-color: #383838;\n",
       "                }\n",
       "\n",
       "                .geemap-dark .jupyter-button {\n",
       "                    --jp-layout-color3: #383838;\n",
       "                }\n",
       "\n",
       "                .geemap-colab {\n",
       "                    background-color: var(--colab-primary-surface-color, white);\n",
       "                }\n",
       "\n",
       "                .geemap-colab .jupyter-button {\n",
       "                    --jp-layout-color3: var(--colab-primary-surface-color, white);\n",
       "                }\n",
       "            </style>\n",
       "            "
      ],
      "text/plain": [
       "<IPython.core.display.HTML object>"
      ]
     },
     "metadata": {},
     "output_type": "display_data"
    }
   ],
   "source": [
    "# Compute the difference, display in yellow.\n",
    "difference = circle1.difference(circle2, ee.ErrorMargin(1))\n",
    "\n",
    "Map2.addLayer(difference, {'color':'yellow'}, 'difference of 2 polygons')"
   ]
  },
  {
   "cell_type": "code",
   "execution_count": 17,
   "metadata": {
    "ExecuteTime": {
     "end_time": "2022-07-08T00:23:43.960433Z",
     "start_time": "2022-07-08T00:23:43.136116Z"
    },
    "colab": {
     "base_uri": "https://localhost:8080/",
     "height": 682
    },
    "colab_type": "code",
    "id": "sQkpaQPkIM1X",
    "outputId": "e44e9c03-4ad2-4b2a-8ba1-5daeac70de69"
   },
   "outputs": [
    {
     "data": {
      "text/html": [
       "\n",
       "            <style>\n",
       "                .geemap-dark {\n",
       "                    --jp-widgets-color: white;\n",
       "                    --jp-widgets-label-color: white;\n",
       "                    --jp-ui-font-color1: white;\n",
       "                    --jp-layout-color2: #454545;\n",
       "                    background-color: #383838;\n",
       "                }\n",
       "\n",
       "                .geemap-dark .jupyter-button {\n",
       "                    --jp-layout-color3: #383838;\n",
       "                }\n",
       "\n",
       "                .geemap-colab {\n",
       "                    background-color: var(--colab-primary-surface-color, white);\n",
       "                }\n",
       "\n",
       "                .geemap-colab .jupyter-button {\n",
       "                    --jp-layout-color3: var(--colab-primary-surface-color, white);\n",
       "                }\n",
       "            </style>\n",
       "            "
      ],
      "text/plain": [
       "<IPython.core.display.HTML object>"
      ]
     },
     "metadata": {},
     "output_type": "display_data"
    },
    {
     "data": {
      "application/vnd.jupyter.widget-view+json": {
       "model_id": "a7fab519a2f74bf89a56997b27a3a3bd",
       "version_major": 2,
       "version_minor": 0
      },
      "text/plain": [
       "Map(bottom=4984.0, center=[-25.005972656239177, 127.99072265625001], controls=(WidgetControl(options=['positio…"
      ]
     },
     "execution_count": 17,
     "metadata": {},
     "output_type": "execute_result"
    }
   ],
   "source": [
    "# Compute symmetric difference, display in black.\n",
    "symDiff = circle1.symmetricDifference(circle2, ee.ErrorMargin(1))\n",
    "\n",
    "Map2.addLayer(symDiff, {'color':'black'}, 'symmetric difference of 2 polygons')\n",
    "Map2"
   ]
  },
  {
   "cell_type": "markdown",
   "metadata": {
    "colab_type": "text",
    "id": "IJHAp9XMJDev"
   },
   "source": [
    "## Features\n",
    "\n",
    "A `Feature` in Earth Engine is defined as a GeoJSON `Feature`, that is, a format to represent geographical features, along with their non-spatial attributes. \n",
    "\n",
    "Specifically, a `Feature` is an object that may or may not have a `Geometry` object and may or may not have a other  `properties` stored as a dictionary of attributes.\n",
    "\n",
    "You can learn more about the GeoJSON format [here](https://en.wikipedia.org/wiki/GeoJSON).\n",
    "\n",
    "### Creating Feature objects\n",
    "To create a `Feature`, provide the constructor with a `Geometry` and (optionally) a dictionary of other properties. For example:"
   ]
  },
  {
   "cell_type": "code",
   "execution_count": 10,
   "metadata": {
    "ExecuteTime": {
     "end_time": "2022-07-08T00:23:43.992256Z",
     "start_time": "2022-07-08T00:23:43.973388Z"
    },
    "colab": {},
    "colab_type": "code",
    "id": "rjRPP6ANJJzt"
   },
   "outputs": [
    {
     "data": {
      "text/html": [
       "\n",
       "            <style>\n",
       "                .geemap-dark {\n",
       "                    --jp-widgets-color: white;\n",
       "                    --jp-widgets-label-color: white;\n",
       "                    --jp-ui-font-color1: white;\n",
       "                    --jp-layout-color2: #454545;\n",
       "                    background-color: #383838;\n",
       "                }\n",
       "\n",
       "                .geemap-dark .jupyter-button {\n",
       "                    --jp-layout-color3: #383838;\n",
       "                }\n",
       "\n",
       "                .geemap-colab {\n",
       "                    background-color: var(--colab-primary-surface-color, white);\n",
       "                }\n",
       "\n",
       "                .geemap-colab .jupyter-button {\n",
       "                    --jp-layout-color3: var(--colab-primary-surface-color, white);\n",
       "                }\n",
       "            </style>\n",
       "            "
      ],
      "text/plain": [
       "<IPython.core.display.HTML object>"
      ]
     },
     "metadata": {},
     "output_type": "display_data"
    }
   ],
   "source": [
    "# Create an ee.Geometry.\n",
    "geodesicPolygon = ee.Geometry.Polygon([[115, -34],\n",
    "      [115, -21],\n",
    "      [152, -21],\n",
    "      [152, -34],\n",
    "      [115, -34]])\n",
    "\n",
    "# Create a Feature from the Geometry.\n",
    "polyFeature = ee.Feature(geodesicPolygon, {'countryName': 'Australia', 'teamName': 'Matildas'})"
   ]
  },
  {
   "cell_type": "markdown",
   "metadata": {
    "colab_type": "text",
    "id": "5mIfJpMlJMK2"
   },
   "source": [
    "As with a `Geometry`, a `Feature` may be printed or added to the map for inspection and visualization:"
   ]
  },
  {
   "cell_type": "code",
   "execution_count": 11,
   "metadata": {
    "ExecuteTime": {
     "end_time": "2022-07-08T00:23:44.383103Z",
     "start_time": "2022-07-08T00:23:43.997001Z"
    },
    "colab": {
     "base_uri": "https://localhost:8080/",
     "height": 161
    },
    "colab_type": "code",
    "id": "-EzyeWjSJLJB",
    "outputId": "31ce6a1a-4c1f-41d4-d178-82151690c5ae"
   },
   "outputs": [
    {
     "data": {
      "text/html": [
       "\n",
       "            <style>\n",
       "                .geemap-dark {\n",
       "                    --jp-widgets-color: white;\n",
       "                    --jp-widgets-label-color: white;\n",
       "                    --jp-ui-font-color1: white;\n",
       "                    --jp-layout-color2: #454545;\n",
       "                    background-color: #383838;\n",
       "                }\n",
       "\n",
       "                .geemap-dark .jupyter-button {\n",
       "                    --jp-layout-color3: #383838;\n",
       "                }\n",
       "\n",
       "                .geemap-colab {\n",
       "                    background-color: var(--colab-primary-surface-color, white);\n",
       "                }\n",
       "\n",
       "                .geemap-colab .jupyter-button {\n",
       "                    --jp-layout-color3: var(--colab-primary-surface-color, white);\n",
       "                }\n",
       "            </style>\n",
       "            "
      ],
      "text/plain": [
       "<IPython.core.display.HTML object>"
      ]
     },
     "metadata": {},
     "output_type": "display_data"
    },
    {
     "data": {
      "text/plain": [
       "{'type': 'Feature',\n",
       " 'geometry': {'type': 'Polygon',\n",
       "  'coordinates': [[[115, -34],\n",
       "    [152, -34],\n",
       "    [152, -21],\n",
       "    [115, -21],\n",
       "    [115, -34]]]},\n",
       " 'properties': {'countryName': 'Australia', 'teamName': 'Matildas'}}"
      ]
     },
     "execution_count": 11,
     "metadata": {},
     "output_type": "execute_result"
    }
   ],
   "source": [
    "polyFeature.getInfo()"
   ]
  },
  {
   "cell_type": "markdown",
   "metadata": {
    "colab_type": "text",
    "id": "CSR-ZAKaJOmc"
   },
   "source": [
    "A `Feature` need not have a Geometry and may simply wrap a dictionary of properties. For example:\n",
    "\n"
   ]
  },
  {
   "cell_type": "code",
   "execution_count": 12,
   "metadata": {
    "ExecuteTime": {
     "end_time": "2022-07-08T00:23:44.678447Z",
     "start_time": "2022-07-08T00:23:44.387569Z"
    },
    "colab": {},
    "colab_type": "code",
    "id": "7kH7hPsIJO0m"
   },
   "outputs": [
    {
     "data": {
      "text/html": [
       "\n",
       "            <style>\n",
       "                .geemap-dark {\n",
       "                    --jp-widgets-color: white;\n",
       "                    --jp-widgets-label-color: white;\n",
       "                    --jp-ui-font-color1: white;\n",
       "                    --jp-layout-color2: #454545;\n",
       "                    background-color: #383838;\n",
       "                }\n",
       "\n",
       "                .geemap-dark .jupyter-button {\n",
       "                    --jp-layout-color3: #383838;\n",
       "                }\n",
       "\n",
       "                .geemap-colab {\n",
       "                    background-color: var(--colab-primary-surface-color, white);\n",
       "                }\n",
       "\n",
       "                .geemap-colab .jupyter-button {\n",
       "                    --jp-layout-color3: var(--colab-primary-surface-color, white);\n",
       "                }\n",
       "            </style>\n",
       "            "
      ],
      "text/plain": [
       "<IPython.core.display.HTML object>"
      ]
     },
     "metadata": {},
     "output_type": "display_data"
    },
    {
     "data": {
      "text/plain": [
       "{'type': 'Feature',\n",
       " 'geometry': None,\n",
       " 'properties': {'number': 96, 'university': 'ANU'}}"
      ]
     },
     "execution_count": 12,
     "metadata": {},
     "output_type": "execute_result"
    }
   ],
   "source": [
    "# Create a dictionary of properties, some of which may be computed values.\n",
    "dictionary = {'number': ee.Number(8).add(88), 'university': 'ANU'}\n",
    "\n",
    "# Create a null geometry feature with the dictionary of properties.\n",
    "nowhereFeature = ee.Feature(None, dictionary)\n",
    "\n",
    "# print the feature with no geometry\n",
    "nowhereFeature.getInfo()"
   ]
  },
  {
   "cell_type": "markdown",
   "metadata": {
    "colab_type": "text",
    "id": "S244iLTtJQbJ"
   },
   "source": [
    "Each `Feature` has one primary `Geometry` stored in the `geometry` property. Additional geometries may be stored in other properties. `Geometry` methods such as intersection and buffer also exist on `Feature` as a convenience for getting the primary `Geometry`, applying the operation, and setting the result as the new primary `Geometry`. The result will retain all the other properties of the `Feature` on which the method is called. There are also methods for getting and setting the non-geometry properties of the `Feature`. For example:"
   ]
  },
  {
   "cell_type": "code",
   "execution_count": 13,
   "metadata": {
    "ExecuteTime": {
     "end_time": "2022-07-08T00:23:45.858999Z",
     "start_time": "2022-07-08T00:23:44.682364Z"
    },
    "colab": {
     "base_uri": "https://localhost:8080/",
     "height": 119
    },
    "colab_type": "code",
    "id": "h49l93CrJQn-",
    "outputId": "532b0d2e-c654-461e-8dc8-c3a85e12fa17"
   },
   "outputs": [
    {
     "data": {
      "text/html": [
       "\n",
       "            <style>\n",
       "                .geemap-dark {\n",
       "                    --jp-widgets-color: white;\n",
       "                    --jp-widgets-label-color: white;\n",
       "                    --jp-ui-font-color1: white;\n",
       "                    --jp-layout-color2: #454545;\n",
       "                    background-color: #383838;\n",
       "                }\n",
       "\n",
       "                .geemap-dark .jupyter-button {\n",
       "                    --jp-layout-color3: #383838;\n",
       "                }\n",
       "\n",
       "                .geemap-colab {\n",
       "                    background-color: var(--colab-primary-surface-color, white);\n",
       "                }\n",
       "\n",
       "                .geemap-colab .jupyter-button {\n",
       "                    --jp-layout-color3: var(--colab-primary-surface-color, white);\n",
       "                }\n",
       "            </style>\n",
       "            "
      ],
      "text/plain": [
       "<IPython.core.display.HTML object>"
      ]
     },
     "metadata": {},
     "output_type": "display_data"
    },
    {
     "name": "stdout",
     "output_type": "stream",
     "text": [
      "Canberra\n",
      "population is: 467,194\n"
     ]
    }
   ],
   "source": [
    "feature = ee.Feature(ee.Geometry.Point([-35.3050, 149.1942]))\\\n",
    "            .set('city', 'Canberra').set('state', 'NSW')\n",
    "\n",
    "# Get a property from the feature.\n",
    "city = feature.get('city')\n",
    "print(city.getInfo())\n",
    "\n",
    "# Set a new property.\n",
    "feature = feature.set('population', '467,194')\n",
    "print('population is:', feature.get('population').getInfo())"
   ]
  },
  {
   "cell_type": "markdown",
   "metadata": {},
   "source": [
    "Now imagine you made a mistake, or that you want to replace/update the information in a `Feature`.\n",
    "We can do it easily.\n",
    "\n",
    "For example, above we set the state to 'NSW', but Canberra is in the 'ACT'. Let's fix that mistake and update the information in the `Feature`."
   ]
  },
  {
   "cell_type": "code",
   "execution_count": 14,
   "metadata": {
    "ExecuteTime": {
     "end_time": "2022-07-08T00:35:27.607100Z",
     "start_time": "2022-07-08T00:35:26.387818Z"
    },
    "colab": {
     "base_uri": "https://localhost:8080/",
     "height": 119
    },
    "colab_type": "code",
    "id": "h49l93CrJQn-",
    "outputId": "532b0d2e-c654-461e-8dc8-c3a85e12fa17"
   },
   "outputs": [
    {
     "data": {
      "text/html": [
       "\n",
       "            <style>\n",
       "                .geemap-dark {\n",
       "                    --jp-widgets-color: white;\n",
       "                    --jp-widgets-label-color: white;\n",
       "                    --jp-ui-font-color1: white;\n",
       "                    --jp-layout-color2: #454545;\n",
       "                    background-color: #383838;\n",
       "                }\n",
       "\n",
       "                .geemap-dark .jupyter-button {\n",
       "                    --jp-layout-color3: #383838;\n",
       "                }\n",
       "\n",
       "                .geemap-colab {\n",
       "                    background-color: var(--colab-primary-surface-color, white);\n",
       "                }\n",
       "\n",
       "                .geemap-colab .jupyter-button {\n",
       "                    --jp-layout-color3: var(--colab-primary-surface-color, white);\n",
       "                }\n",
       "            </style>\n",
       "            "
      ],
      "text/plain": [
       "<IPython.core.display.HTML object>"
      ]
     },
     "metadata": {},
     "output_type": "display_data"
    },
    {
     "name": "stdout",
     "output_type": "stream",
     "text": [
      "{'type': 'Feature', 'geometry': {'type': 'Point', 'coordinates': [-35.305, 149.1942]}, 'properties': {'city': 'Canberra', 'population': '467,194', 'state': 'ACT'}}\n"
     ]
    }
   ],
   "source": [
    "# Overwrite the old properties with a new dictionary.\n",
    "newDict = {'state': 'ACT'}\n",
    "feature = feature.set(newDict)\n",
    "\n",
    "# Check the result.\n",
    "print(feature.getInfo())"
   ]
  },
  {
   "cell_type": "markdown",
   "metadata": {
    "colab_type": "text",
    "id": "9hz7eHY1JTL6"
   },
   "source": [
    "In the previous example, note that properties can be set with either a key: value pair. Also note that `feature.set()` overwrites existing properties."
   ]
  },
  {
   "cell_type": "markdown",
   "metadata": {
    "colab_type": "text",
    "id": "NdN1TZ5MJb0q"
   },
   "source": [
    "## FeatureCollections\n",
    "\n",
    "Groups of related features can be combined into a `FeatureCollection`, to enable additional operations on the entire set such as filtering, sorting and rendering. Besides just simple features (geometry + properties), feature collections can also contain other collections.\n",
    "\n",
    "### Creating a FeatureCollection \n",
    "\n",
    "One way to create a `FeatureCollection` is to provide the constructor with a `list` of features. The features do not need to have the same geometry type or the same properties. For example:"
   ]
  },
  {
   "cell_type": "code",
   "execution_count": 15,
   "metadata": {
    "ExecuteTime": {
     "end_time": "2022-07-08T00:35:28.391808Z",
     "start_time": "2022-07-08T00:35:27.611051Z"
    },
    "colab": {
     "base_uri": "https://localhost:8080/",
     "height": 359
    },
    "colab_type": "code",
    "id": "_Ibj29-EJeXb",
    "outputId": "685ddded-e507-4258-d900-dcb278f0d04d"
   },
   "outputs": [
    {
     "data": {
      "text/html": [
       "\n",
       "            <style>\n",
       "                .geemap-dark {\n",
       "                    --jp-widgets-color: white;\n",
       "                    --jp-widgets-label-color: white;\n",
       "                    --jp-ui-font-color1: white;\n",
       "                    --jp-layout-color2: #454545;\n",
       "                    background-color: #383838;\n",
       "                }\n",
       "\n",
       "                .geemap-dark .jupyter-button {\n",
       "                    --jp-layout-color3: #383838;\n",
       "                }\n",
       "\n",
       "                .geemap-colab {\n",
       "                    background-color: var(--colab-primary-surface-color, white);\n",
       "                }\n",
       "\n",
       "                .geemap-colab .jupyter-button {\n",
       "                    --jp-layout-color3: var(--colab-primary-surface-color, white);\n",
       "                }\n",
       "            </style>\n",
       "            "
      ],
      "text/plain": [
       "<IPython.core.display.HTML object>"
      ]
     },
     "metadata": {},
     "output_type": "display_data"
    },
    {
     "name": "stdout",
     "output_type": "stream",
     "text": [
      "{'type': 'FeatureCollection', 'columns': {'name': 'String', 'system:index': 'String'}, 'features': [{'type': 'Feature', 'geometry': {'type': 'Polygon', 'coordinates': [[[144.8087, -37.8611], [145.071, -37.8611], [145.071, -37.7442], [144.8087, -37.7442], [144.8087, -37.8611]]]}, 'id': '0', 'properties': {'name': 'Melbourne'}}, {'type': 'Feature', 'geometry': {'type': 'Point', 'coordinates': [153, -27]}, 'id': '1', 'properties': {'name': 'Brisbane'}}, {'type': 'Feature', 'geometry': {'type': 'Point', 'coordinates': [151.2165, -33.7913]}, 'id': '2', 'properties': {'name': 'Sydney'}}]}\n"
     ]
    },
    {
     "data": {
      "application/vnd.jupyter.widget-view+json": {
       "model_id": "d00c6ba2f33440b78985b0ccb0a65bff",
       "version_major": 2,
       "version_minor": 0
      },
      "text/plain": [
       "Map(center=[-30.344, 141.0359], controls=(WidgetControl(options=['position', 'transparent_bg'], widget=SearchD…"
      ]
     },
     "execution_count": 15,
     "metadata": {},
     "output_type": "execute_result"
    }
   ],
   "source": [
    "# Make a list of Features.\n",
    "features = [\n",
    "  ee.Feature(ee.Geometry.Rectangle(144.8087, -37.7442, 145.0710, -37.8611), {'name': 'Melbourne'}),\n",
    "  ee.Feature(ee.Geometry.Point(153, -27), {'name': 'Brisbane'}),\n",
    "  ee.Feature(ee.Geometry.Point(151.2165, -33.7913), {'name': 'Sydney'})\n",
    "]\n",
    "\n",
    "# Create a FeatureCollection from the list and print it.\n",
    "cities = ee.FeatureCollection(features)\n",
    "print(cities.getInfo())\n",
    "\n",
    "Map3 = gmap.Map(zoom=5, center=[-30.3440,141.0359,])\n",
    "Map3.addLayer(cities, {'color':'cyan'}, 'Cities in Aus')\n",
    "Map3"
   ]
  },
  {
   "cell_type": "markdown",
   "metadata": {
    "colab_type": "text",
    "id": "iPcxM4cFJg9M"
   },
   "source": [
    "A `FeatureCollection` can also be comprised of just one Feature:"
   ]
  },
  {
   "cell_type": "code",
   "execution_count": 16,
   "metadata": {
    "ExecuteTime": {
     "end_time": "2022-07-08T00:36:34.906252Z",
     "start_time": "2022-07-08T00:36:34.602949Z"
    },
    "colab": {
     "base_uri": "https://localhost:8080/",
     "height": 125
    },
    "colab_type": "code",
    "id": "R1k2QYelJhK6",
    "outputId": "6aaf7a6c-d817-4051-ffee-f562e284f0dc"
   },
   "outputs": [
    {
     "data": {
      "text/html": [
       "\n",
       "            <style>\n",
       "                .geemap-dark {\n",
       "                    --jp-widgets-color: white;\n",
       "                    --jp-widgets-label-color: white;\n",
       "                    --jp-ui-font-color1: white;\n",
       "                    --jp-layout-color2: #454545;\n",
       "                    background-color: #383838;\n",
       "                }\n",
       "\n",
       "                .geemap-dark .jupyter-button {\n",
       "                    --jp-layout-color3: #383838;\n",
       "                }\n",
       "\n",
       "                .geemap-colab {\n",
       "                    background-color: var(--colab-primary-surface-color, white);\n",
       "                }\n",
       "\n",
       "                .geemap-colab .jupyter-button {\n",
       "                    --jp-layout-color3: var(--colab-primary-surface-color, white);\n",
       "                }\n",
       "            </style>\n",
       "            "
      ],
      "text/plain": [
       "<IPython.core.display.HTML object>"
      ]
     },
     "metadata": {},
     "output_type": "display_data"
    },
    {
     "data": {
      "text/plain": [
       "{'type': 'FeatureCollection',\n",
       " 'columns': {'system:index': 'String'},\n",
       " 'features': [{'type': 'Feature',\n",
       "   'geometry': {'type': 'Point', 'coordinates': [16.37, 48.225]},\n",
       "   'id': '0',\n",
       "   'properties': {}}]}"
      ]
     },
     "execution_count": 16,
     "metadata": {},
     "output_type": "execute_result"
    }
   ],
   "source": [
    "# Create a FeatureCollection from a single geometry and print it.\n",
    "fromGeom = ee.FeatureCollection(ee.Geometry.Point(16.37, 48.225))\n",
    "fromGeom.getInfo()"
   ]
  },
  {
   "cell_type": "markdown",
   "metadata": {},
   "source": [
    "## Reference\n",
    "[ENGN3903 - Environmental Sensing, Mapping and Modelling](https://github.com/nicolasyounes/engn3903/tree/main) "
   ]
  },
  {
   "cell_type": "code",
   "execution_count": null,
   "metadata": {},
   "outputs": [],
   "source": []
  }
 ],
 "metadata": {
  "kernelspec": {
   "display_name": "Python 3 (ipykernel)",
   "language": "python",
   "name": "python3"
  },
  "language_info": {
   "codemirror_mode": {
    "name": "ipython",
    "version": 3
   },
   "file_extension": ".py",
   "mimetype": "text/x-python",
   "name": "python",
   "nbconvert_exporter": "python",
   "pygments_lexer": "ipython3",
   "version": "3.9.2"
  },
  "latex_envs": {
   "LaTeX_envs_menu_present": true,
   "autoclose": true,
   "autocomplete": true,
   "bibliofile": "biblio.bib",
   "cite_by": "apalike",
   "current_citInitial": 1,
   "eqLabelWithNumbers": true,
   "eqNumInitial": 1,
   "hotkeys": {
    "equation": "Ctrl-E",
    "itemize": "Ctrl-I"
   },
   "labels_anchors": false,
   "latex_user_defs": false,
   "report_style_numbering": false,
   "user_envs_cfg": false
  },
  "toc": {
   "base_numbering": 1,
   "nav_menu": {
    "height": "339px",
    "width": "378px"
   },
   "number_sections": true,
   "sideBar": true,
   "skip_h1_title": false,
   "title_cell": "Table of Contents",
   "title_sidebar": "Contents",
   "toc_cell": false,
   "toc_position": {
    "height": "calc(100% - 180px)",
    "left": "10px",
    "top": "150px",
    "width": "384px"
   },
   "toc_section_display": true,
   "toc_window_display": true
  },
  "varInspector": {
   "cols": {
    "lenName": 16,
    "lenType": 16,
    "lenVar": 40
   },
   "kernels_config": {
    "python": {
     "delete_cmd_postfix": "",
     "delete_cmd_prefix": "del ",
     "library": "var_list.py",
     "varRefreshCmd": "print(var_dic_list())"
    },
    "r": {
     "delete_cmd_postfix": ") ",
     "delete_cmd_prefix": "rm(",
     "library": "var_list.r",
     "varRefreshCmd": "cat(var_dic_list()) "
    }
   },
   "position": {
    "height": "461.85px",
    "left": "1425.83px",
    "right": "20px",
    "top": "120px",
    "width": "314.167px"
   },
   "types_to_exclude": [
    "module",
    "function",
    "builtin_function_or_method",
    "instance",
    "_Feature"
   ],
   "window_display": false
  },
  "widgets": {
   "application/vnd.jupyter.widget-state+json": {
    "state": {},
    "version_major": 2,
    "version_minor": 0
   }
  }
 },
 "nbformat": 4,
 "nbformat_minor": 4
}
