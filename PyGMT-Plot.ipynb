{
 "cells": [
  {
   "cell_type": "markdown",
   "id": "20cc69ca-8305-4e4e-8ed7-c7ebd33551b1",
   "metadata": {},
   "source": [
    "# Lab Exercises\n",
    "\n",
    "In this set of exercises, we will use PyGMT to plot global climate datasets.\n"
   ]
  },
  {
   "cell_type": "code",
   "execution_count": null,
   "id": "ef3c6795-d508-4b31-a7f6-d89990b73d64",
   "metadata": {},
   "outputs": [],
   "source": [
    "import os\n",
    "# The jupyter notebook is launched from your $HOME directory.\n",
    "# Change the working directory to the workshop directory\n",
    "# which was created in your username directory under /scratch/vp91\n",
    "os.chdir(os.path.expandvars(\"/scratch/vp91/$USER/\"))"
   ]
  },
  {
   "cell_type": "markdown",
   "id": "2b1a867c-d3c4-479f-beed-f186041d909d",
   "metadata": {},
   "source": [
    "## NOAA-CIRES 20th Century Reanalysis (V2c)\n",
    "\n",
    "The first data set is weather maps from [NOAA-CIRES 20th Century Reanalysis](https://psl.noaa.gov/data/gridded/data.20thC_ReanV2c.html). We will choose to plot the air temperature on 31 Dec 2014 on top of the global map.  \n",
    "\n",
    "Let's load the packages."
   ]
  },
  {
   "cell_type": "code",
   "execution_count": null,
   "id": "72f66c61-98da-4f43-bb7a-0aff45a89dcb",
   "metadata": {},
   "outputs": [],
   "source": [
    "import pygmt\n",
    "import xarray as xr"
   ]
  },
  {
   "cell_type": "markdown",
   "id": "8f629ff9-2145-4d6d-8f67-373176cddd3d",
   "metadata": {},
   "source": [
    "Load the NetCDF dataset using xarray"
   ]
  },
  {
   "cell_type": "code",
   "execution_count": null,
   "id": "84be25b6-2de9-47b1-9318-a059ded816bb",
   "metadata": {},
   "outputs": [],
   "source": [
    "data = xr.open_dataset('../UTAS_DATA/air.2001.nc')"
   ]
  },
  {
   "cell_type": "markdown",
   "id": "43c11905-5f2e-42ad-b214-bd8b4040607c",
   "metadata": {},
   "source": [
    "Again, we first inpsect the data layout."
   ]
  },
  {
   "cell_type": "code",
   "execution_count": null,
   "id": "7dd4672f-f6e4-481d-983b-cd885d981039",
   "metadata": {},
   "outputs": [],
   "source": [
    "data"
   ]
  },
  {
   "cell_type": "code",
   "execution_count": null,
   "id": "488d9e64-3551-4243-b0b3-ddaf64b07941",
   "metadata": {},
   "outputs": [],
   "source": [
    "data.data_vars"
   ]
  },
  {
   "cell_type": "code",
   "execution_count": null,
   "id": "194d1880-fb27-4c11-88c1-ff6b05087af7",
   "metadata": {},
   "outputs": [],
   "source": [
    "data.air.dims"
   ]
  },
  {
   "cell_type": "code",
   "execution_count": null,
   "id": "74581f2a-4fa3-4198-8e9b-eae27dfb7390",
   "metadata": {},
   "outputs": [],
   "source": [
    "data.time_bnds.dims"
   ]
  },
  {
   "cell_type": "code",
   "execution_count": null,
   "id": "c43d255f-64d2-4c78-8022-e6aafb2ec7a8",
   "metadata": {},
   "outputs": [],
   "source": [
    "data.air.coords"
   ]
  },
  {
   "cell_type": "markdown",
   "id": "17139962-11f0-4e45-8d0b-2f177573af46",
   "metadata": {},
   "source": [
    "Now we can inspect the data. "
   ]
  },
  {
   "cell_type": "code",
   "execution_count": null,
   "id": "530dbe49-7c80-448f-be05-884db2253a67",
   "metadata": {},
   "outputs": [],
   "source": [
    "data.time_bnds.coords"
   ]
  },
  {
   "cell_type": "markdown",
   "id": "30889c25-aa75-4a06-bbf2-e47053788448",
   "metadata": {},
   "source": [
    "Alternatively, inspect the data with:"
   ]
  },
  {
   "cell_type": "markdown",
   "id": "e343c1d6-4771-4c28-a3a0-76d96d3cdfb8",
   "metadata": {},
   "source": [
    "Extract the last time step to plot (e.g., the last time index)"
   ]
  },
  {
   "cell_type": "code",
   "execution_count": null,
   "id": "d09920cb-abee-4a1e-971b-4635757327b0",
   "metadata": {},
   "outputs": [],
   "source": [
    "air_temperature = data['air'].sel(time=data['time'][-1]) \n",
    "\n",
    "# Regularise the grid by interpolating to evenly spaced latitude/longitude\n",
    "lat = air_temperature['lat']\n",
    "lon = air_temperature['lon']\n",
    "air_temperature_regular = air_temperature.interp(\n",
    "    lat=xr.DataArray(sorted(lat.values), dims='lat'),\n",
    "    lon=xr.DataArray(sorted(lon.values), dims='lon')\n",
    ")\n",
    "\n",
    "# Save the regularized data to a temporary NetCDF file\n",
    "air_temperature_regular.to_netcdf('air_temp_1000mb.nc')"
   ]
  },
  {
   "cell_type": "code",
   "execution_count": null,
   "id": "ff1f1fc7-25cb-42d5-8b51-26d39d8a4b2b",
   "metadata": {},
   "outputs": [],
   "source": [
    "# Create a PyGMT figure and plot the grid with contours\n",
    "fig = pygmt.Figure()\n",
    "fig.grdimage(\n",
    "    grid='air_temp_1000mb.nc',\n",
    "    projection='X30c/15c',  \n",
    "    cmap='rainbow',         \n",
    "    shading=True           # Add shading for depth perception\n",
    ")\n",
    "\n",
    "# Add contour lines on top of the grid\n",
    "fig.grdcontour(\n",
    "    grid='air_temp_1000mb.nc',\n",
    "    interval=2,            # Adjust contour interval for better detail\n",
    "    pen=\"0.75p,black\"      # Line thickness and color\n",
    ")\n",
    "\n",
    "# Add a color bar\n",
    "fig.colorbar(\n",
    "    frame='af+l\"Temperature (K)\"',\n",
    "    position=\"JBC+w12c/0.5c+o0c/1c\"  # Adjust position and size of color bar as needed\n",
    ")\n",
    "\n",
    "# Add the title and labels\n",
    "fig.basemap(frame=[\"xa30\", \"ya30\", \"+tNOAA-CIRES 20th Century Reanalysis: 1000 mb Air Temperature\"])\n",
    "\n",
    "# Display the figure\n",
    "fig.show()"
   ]
  },
  {
   "cell_type": "markdown",
   "id": "128c4327-c03d-412c-82fc-e32f682cb006",
   "metadata": {},
   "source": [
    "In the NOAA-CIRES example, we plotted the data uniformly across the global map. What if the dataset is regional? For example, the oceanic data that are not defined on the land. Let's continue more practice with the NCEP Global Ocean Data Assimilation System (GODAS)."
   ]
  },
  {
   "cell_type": "markdown",
   "id": "108c3bc1-b3b5-48f6-b5ce-180aa6a544d0",
   "metadata": {},
   "source": [
    "## NCEP Global Ocean Data Assimilation System (GODAS)"
   ]
  },
  {
   "cell_type": "code",
   "execution_count": null,
   "id": "b2c9401d-2f3e-4a5e-b011-ea074b9df0d7",
   "metadata": {},
   "outputs": [],
   "source": [
    "data = xr.open_dataset('../UTAS_DATA/pottmp.2023.nc')  # Replace with your NetCDF file path"
   ]
  },
  {
   "cell_type": "code",
   "execution_count": null,
   "id": "240fa1d4-d5a7-4e25-981f-534fd44d0e14",
   "metadata": {},
   "outputs": [],
   "source": [
    "# Example: Get the first 10 entries along each dimension\n",
    "data_point = data['pottmp'].isel(time=-1, level=5)\n",
    "print(data_point)\n",
    "print(data_point.values)"
   ]
  },
  {
   "cell_type": "code",
   "execution_count": null,
   "id": "c39af9cc-f593-45d5-8543-f644e201ebb4",
   "metadata": {},
   "outputs": [],
   "source": [
    "# Regularise the grid by interpolating to uniform latitude/longitude spacing\n",
    "pottmp_regular = pottmp.interp(\n",
    "    lat=xr.DataArray(pottmp['DATA_VARIABLE1']), # inspect the dataset and replace DATA_VARIABLE1, DATA_VARIABLE2\n",
    "    lon=xr.DataArray(pottmp['DATA_VARIABLE2'])\n",
    ")\n",
    "\n",
    "# Check data range\n",
    "pottmp_min = pottmp_regular.min().values\n",
    "pottmp_max = pottmp_regular.max().values\n",
    "print(\"Data range:\", pottmp_min, pottmp_max)\n",
    "\n",
    "# Save the grid data to a temporary NetCDF file\n",
    "pottmp_regular.to_netcdf('pottmp_5m_regular.nc')"
   ]
  },
  {
   "cell_type": "code",
   "execution_count": null,
   "id": "123b54bc-5aaa-4a8d-b826-1c34166b33ee",
   "metadata": {},
   "outputs": [],
   "source": [
    "\n",
    "# Create a PyGMT figure\n",
    "fig = pygmt.Figure()\n",
    "\n",
    "fig.basemap(region=[0, 360, -90, 90], projection=\"X15c/7c\", frame=True)\n",
    "\n",
    "fig.coast(region=[0, 360, -90, 90], projection=\"X15c/7c\", land=\"white\", water=\"lightblue\", frame=\"af\")\n",
    "\n",
    "# Generate the color palette within the figure's context\n",
    "pygmt.makecpt(\n",
    "    cmap=\"rainbow\",\n",
    "    series=[pottmp_min, pottmp_max]  # Set min and max values for the color scale\n",
    ")\n",
    "\n",
    "# Plot the temperature data using grdimage\n",
    "fig.grdimage(\n",
    "    grid='pottmp_5m_regular.nc',\n",
    "    cmap=True,               # Use the most recent CPT created by makecpt\n",
    "    shading=True,\n",
    "    nan_transparent=True     # Make NaN values transparent\n",
    ")\n",
    "\n",
    "# Optionally add contour lines for clarity\n",
    "fig.grdcontour(\n",
    "    grid='pottmp_5m_regular.nc',\n",
    "    interval=2,\n",
    "    pen=\"0.5p,black\"\n",
    ")\n",
    "\n",
    "# Add a color bar to show the temperature scale\n",
    "fig.colorbar(\n",
    "    frame=\"af+l'Temperature (K)'\",\n",
    "    position=\"JBC+w10c/0.5c\"\n",
    ")\n",
    "\n",
    "# Display the plot\n",
    "fig.show()\n",
    "print(\"Minimum temperature value:\", pottmp_min)"
   ]
  }
 ],
 "metadata": {
  "kernelspec": {
   "display_name": "Python 3 (ipykernel)",
   "language": "python",
   "name": "python3"
  },
  "language_info": {
   "codemirror_mode": {
    "name": "ipython",
    "version": 3
   },
   "file_extension": ".py",
   "mimetype": "text/x-python",
   "name": "python",
   "nbconvert_exporter": "python",
   "pygments_lexer": "ipython3",
   "version": "3.9.2"
  }
 },
 "nbformat": 4,
 "nbformat_minor": 5
}
