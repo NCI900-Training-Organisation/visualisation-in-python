{
 "cells": [
  {
   "cell_type": "code",
   "execution_count": null,
   "id": "98c14f84-c981-400a-8e5a-5641a167e3a4",
   "metadata": {},
   "outputs": [],
   "source": [
    "import os\n",
    "# The jupyter notebook is launched from your $HOME directory.\n",
    "# Change the working directory to the workshop directory\n",
    "# which was created in your username directory under /scratch/vp91\n",
    "os.chdir(os.path.expandvars(\"/scratch/vp91/$USER/\"))"
   ]
  },
  {
   "cell_type": "markdown",
   "id": "c6c7438e",
   "metadata": {},
   "source": [
    "# Supervised Image Classification\n",
    "\n",
    "\n",
    "- **Special requirements:** A Google account, access to Google Earth Engine.\n",
    "\n"
   ]
  },
  {
   "cell_type": "markdown",
   "id": "10fc49d1",
   "metadata": {},
   "source": [
    "\n",
    "## Description\n",
    "Supervised classification is one of the most popular ways to derive thematic maps in remote senisng for applications ranging from generating Land Use/Land Cover maps to change detection. \n",
    "In this session, you will learn how to collect training samples, use machine learning techniques to allocate the whole image to one of the defined categories, perform accuracy assessments, and run some statistics for the resulting classified map. Also, you will learn how to improve the results of classification using post-classification methods.\n",
    "\n",
    "## Aims of the practical session\n",
    "* Load images for a region of interest\n",
    "* Collect training samples\n",
    "* Split samples into training/validation data\n",
    "* Correspond training data with the data\n",
    "* Use classifier\n",
    "* Calculate spectral indices\n",
    "* Improve classification results\n",
    "* Accuracy assessement for training/validation data\n",
    "* Calculating area by class"
   ]
  },
  {
   "cell_type": "markdown",
   "id": "32a01077",
   "metadata": {},
   "source": [
    "## Getting started"
   ]
  },
  {
   "cell_type": "markdown",
   "id": "02fe2bc6",
   "metadata": {},
   "source": [
    "### Load packages\n",
    "\n",
    "Import GEE packages that are needed for the analysis."
   ]
  },
  {
   "cell_type": "code",
   "execution_count": 1,
   "id": "metallic-skiing",
   "metadata": {},
   "outputs": [],
   "source": [
    "import ee\n",
    "import geemap\n",
    "import pandas as pd\n",
    "import matplotlib.pyplot as plt"
   ]
  },
  {
   "cell_type": "markdown",
   "id": "97f67c57",
   "metadata": {},
   "source": [
    "### Connect to Google Earth Engine (GEE)\n",
    "\n",
    "Connect to the GEE to have access computing tools and GEE datasets.\n",
    "You may be required to input your Google account for authorization."
   ]
  },
  {
   "cell_type": "code",
   "execution_count": 2,
   "id": "2b4786de",
   "metadata": {},
   "outputs": [
    {
     "data": {
      "text/html": [
       "\n",
       "            <style>\n",
       "                .geemap-dark {\n",
       "                    --jp-widgets-color: white;\n",
       "                    --jp-widgets-label-color: white;\n",
       "                    --jp-ui-font-color1: white;\n",
       "                    --jp-layout-color2: #454545;\n",
       "                    background-color: #383838;\n",
       "                }\n",
       "\n",
       "                .geemap-dark .jupyter-button {\n",
       "                    --jp-layout-color3: #383838;\n",
       "                }\n",
       "\n",
       "                .geemap-colab {\n",
       "                    background-color: var(--colab-primary-surface-color, white);\n",
       "                }\n",
       "\n",
       "                .geemap-colab .jupyter-button {\n",
       "                    --jp-layout-color3: var(--colab-primary-surface-color, white);\n",
       "                }\n",
       "            </style>\n",
       "            "
      ],
      "text/plain": [
       "<IPython.core.display.HTML object>"
      ]
     },
     "metadata": {},
     "output_type": "display_data"
    },
    {
     "name": "stderr",
     "output_type": "stream",
     "text": [
      "*** Earth Engine *** Share your feedback by taking our Annual Developer Satisfaction Survey: https://google.qualtrics.com/jfe/form/SV_0JLhFqfSY1uiEaW?source=Init\n"
     ]
    }
   ],
   "source": [
    "# Using basemap in geemap\n",
    "Map = geemap.Map(center=[-35.2041, 149.2721], zoom=12)"
   ]
  },
  {
   "cell_type": "markdown",
   "id": "82d71414",
   "metadata": {},
   "source": [
    "### Adding Region of Interest (ROI)\n",
    "\n",
    "Create ROI that we want to work with and display it on the GEE map.\n",
    "We can also create ROI through manually drawing option in GEE or import a downloaded shapefile from your computer path. "
   ]
  },
  {
   "cell_type": "code",
   "execution_count": 3,
   "id": "1c4dc8c8",
   "metadata": {},
   "outputs": [
    {
     "data": {
      "text/html": [
       "\n",
       "            <style>\n",
       "                .geemap-dark {\n",
       "                    --jp-widgets-color: white;\n",
       "                    --jp-widgets-label-color: white;\n",
       "                    --jp-ui-font-color1: white;\n",
       "                    --jp-layout-color2: #454545;\n",
       "                    background-color: #383838;\n",
       "                }\n",
       "\n",
       "                .geemap-dark .jupyter-button {\n",
       "                    --jp-layout-color3: #383838;\n",
       "                }\n",
       "\n",
       "                .geemap-colab {\n",
       "                    background-color: var(--colab-primary-surface-color, white);\n",
       "                }\n",
       "\n",
       "                .geemap-colab .jupyter-button {\n",
       "                    --jp-layout-color3: var(--colab-primary-surface-color, white);\n",
       "                }\n",
       "            </style>\n",
       "            "
      ],
      "text/plain": [
       "<IPython.core.display.HTML object>"
      ]
     },
     "metadata": {},
     "output_type": "display_data"
    },
    {
     "data": {
      "application/vnd.jupyter.widget-view+json": {
       "model_id": "ba8654b529b446c485ff26daf5e39d6b",
       "version_major": 2,
       "version_minor": 0
      },
      "text/plain": [
       "Map(center=[-35.2041, 149.2721], controls=(WidgetControl(options=['position', 'transparent_bg'], widget=Search…"
      ]
     },
     "execution_count": 3,
     "metadata": {},
     "output_type": "execute_result"
    }
   ],
   "source": [
    "# Draw polygon for the ROI and add layer on the GEE map.\n",
    "geometry = ee.Geometry.Polygon([[\n",
    "    [149.08169361455955, -35.32478551096885],\n",
    "    [149.1481265674404, -35.325065623240356],\n",
    "    [149.14829822881737, -35.27911424131675],\n",
    "    [149.08289524419823, -35.27855369756653]\n",
    "]])\n",
    "\n",
    "Map.add_basemap('Esri.WorldImagery')\n",
    "Map.addLayer(geometry, {'alpha': 0.01}, 'Canberra ROI')\n",
    "Map.addLayerControl()\n",
    "Map.centerObject(geometry)\n",
    "Map"
   ]
  },
  {
   "attachments": {},
   "cell_type": "markdown",
   "id": "2499c3a1",
   "metadata": {},
   "source": [
    "## Training data\n",
    "\n",
    "Training data (or a training dataset) constitutes the backbone of classification tasks, as it is used to characterise the variability of categories within the study area (in other words, it is used to obtain information instrumental for predicting classes from new data).\n",
    "The quality of the training data has a greater impact on the classification than the algorithm used. Large and accurate training data sets are preferable: increasing the training sample size results in increased classification accuracy ([Maxell et al 2018](https://www.tandfonline.com/doi/full/10.1080/01431161.2018.1433343)). A review of training data methods in the context of Earth Observation is available [here](https://www.mdpi.com/2072-4292/12/6/1034)\n",
    "\n",
    "When creating training labels (i.e., the names of each category/class), be sure to capture the spectral variability of the class, and to use imagery from the time period you want to classify (rather than relying on basemap composites). \n",
    "\n",
    "Another common problem with training data is class imbalance. This can occur when one of your classes is relatively rare and therefore the rare class will comprise a smaller proportion of the training set. When imbalanced data is used, it is common that the final classification will under-predict less abundant classes relative to their true proportion. An ideal training dataset would have approximately the same number of data entries for each of the classes considered.\n",
    "\n",
    "There are many platforms to use for gathering training labels, the best one to use depends on your application.  We will show you how you can collect training data through the web app [geojson.io](https://geojson.io/#map=3.63/-27.46/134.67) - a simple application for drawing geometries on a basemap. \n",
    "\n",
    "Geemap also has some functionality for collecting training samples, though it can be glitchy. To see how its used see the video here: https://www.youtube.com/watch?v=VWh5PxXPZw0."
   ]
  },
  {
   "cell_type": "markdown",
   "id": "53696871",
   "metadata": {},
   "source": [
    "### Loading training samples from file\n",
    "\n",
    "We have prepared a small training data sample for use with this practical. Below we load the file (which is stored on github as a geojson) into the notebook."
   ]
  },
  {
   "cell_type": "code",
   "execution_count": 4,
   "id": "d8902d5c-7bda-42fa-a156-fe686c06315e",
   "metadata": {},
   "outputs": [
    {
     "data": {
      "text/html": [
       "\n",
       "            <style>\n",
       "                .geemap-dark {\n",
       "                    --jp-widgets-color: white;\n",
       "                    --jp-widgets-label-color: white;\n",
       "                    --jp-ui-font-color1: white;\n",
       "                    --jp-layout-color2: #454545;\n",
       "                    background-color: #383838;\n",
       "                }\n",
       "\n",
       "                .geemap-dark .jupyter-button {\n",
       "                    --jp-layout-color3: #383838;\n",
       "                }\n",
       "\n",
       "                .geemap-colab {\n",
       "                    background-color: var(--colab-primary-surface-color, white);\n",
       "                }\n",
       "\n",
       "                .geemap-colab .jupyter-button {\n",
       "                    --jp-layout-color3: var(--colab-primary-surface-color, white);\n",
       "                }\n",
       "            </style>\n",
       "            "
      ],
      "text/plain": [
       "<IPython.core.display.HTML object>"
      ]
     },
     "metadata": {},
     "output_type": "display_data"
    },
    {
     "name": "stderr",
     "output_type": "stream",
     "text": [
      "Downloading...\n",
      "From: https://raw.githubusercontent.com/nicolasyounes/engn3903/main/figures/training_data.geojson\n",
      "To: /jobfs/129599448.gadi-pbs/4a329d52-a3ea-4b07-9658-30499f4c5f36.geojson\n",
      "52.7kB [00:00, 21.9MB/s]                   \n"
     ]
    },
    {
     "name": "stdout",
     "output_type": "stream",
     "text": [
      "There are 4 landcover classes in the training dataset\n"
     ]
    }
   ],
   "source": [
    "# load training data from github\n",
    "training_path = 'https://raw.githubusercontent.com/nicolasyounes/engn3903/main/figures/training_data.geojson'\n",
    "training_data = geemap.geojson_to_ee(training_path)\n",
    "\n",
    "#print how many classes there are in the TD\n",
    "df = geemap.ee_to_df(training_data)\n",
    "n_classes = len(df['landcover'].unique())\n",
    "print(f'There are {n_classes} landcover classes in the training dataset')"
   ]
  },
  {
   "cell_type": "code",
   "execution_count": 5,
   "id": "cd764940",
   "metadata": {},
   "outputs": [
    {
     "data": {
      "text/html": [
       "\n",
       "            <style>\n",
       "                .geemap-dark {\n",
       "                    --jp-widgets-color: white;\n",
       "                    --jp-widgets-label-color: white;\n",
       "                    --jp-ui-font-color1: white;\n",
       "                    --jp-layout-color2: #454545;\n",
       "                    background-color: #383838;\n",
       "                }\n",
       "\n",
       "                .geemap-dark .jupyter-button {\n",
       "                    --jp-layout-color3: #383838;\n",
       "                }\n",
       "\n",
       "                .geemap-colab {\n",
       "                    background-color: var(--colab-primary-surface-color, white);\n",
       "                }\n",
       "\n",
       "                .geemap-colab .jupyter-button {\n",
       "                    --jp-layout-color3: var(--colab-primary-surface-color, white);\n",
       "                }\n",
       "            </style>\n",
       "            "
      ],
      "text/plain": [
       "<IPython.core.display.HTML object>"
      ]
     },
     "metadata": {},
     "output_type": "display_data"
    },
    {
     "data": {
      "application/vnd.jupyter.widget-view+json": {
       "model_id": "ba8654b529b446c485ff26daf5e39d6b",
       "version_major": 2,
       "version_minor": 0
      },
      "text/plain": [
       "Map(bottom=634612.0, center=[-35.301553306622715, 149.16028114271822], controls=(WidgetControl(options=['posit…"
      ]
     },
     "execution_count": 5,
     "metadata": {},
     "output_type": "execute_result"
    }
   ],
   "source": [
    "#plot the training samples, add a unique color to each landcover type\n",
    "def setPointProperties(f):\n",
    "  lc = f.get('landcover') # 0 to 3\n",
    "  mapDisplayColors = ee.List(['red', 'green', 'white', 'blue'])\n",
    "\n",
    "  # use the class as index to lookup the corresponding display color\n",
    "  return f.set({'style': {'color': mapDisplayColors.get(lc)}})\n",
    "\n",
    "    \n",
    "# apply the function and view the results on map\n",
    "training_data = training_data.map(setPointProperties)\n",
    "Map.addLayer(training_data.style(**{'styleProperty': 'style'}), {}, 'all training data')\n",
    "Map.centerObject(training_data)\n",
    "Map"
   ]
  },
  {
   "cell_type": "markdown",
   "id": "413a4830",
   "metadata": {},
   "source": [
    "### Training data sampling from Sentinel-2 images\n",
    "\n",
    "In the next few code cells we will extract training data from Sentinel-2 images over the pixels specified by the training sample locations loaded in the previous step\n",
    "\n",
    "Sentinel-2 is a wide-swath, high-resolution, multi-spectral imaging mission supporting Copernicus Land Monitoring studies, including the monitoring of vegetation, soil and water cover, as well as observation of inland waterways and coastal areas.\n",
    "\n",
    "We will:\n",
    "* Define a function for cloud masking and rescaling sentinel-2 images\n",
    "* Load Sentinel-2 images for the analysis\n",
    "* Filter a collection by date range\n",
    "* Calculate a temporal median to collapse the time dimension\n",
    "* Clip based on the geometry"
   ]
  },
  {
   "cell_type": "code",
   "execution_count": 6,
   "id": "9a70a991-cf1d-4f25-b018-e204c79f0a3b",
   "metadata": {},
   "outputs": [
    {
     "data": {
      "text/html": [
       "\n",
       "            <style>\n",
       "                .geemap-dark {\n",
       "                    --jp-widgets-color: white;\n",
       "                    --jp-widgets-label-color: white;\n",
       "                    --jp-ui-font-color1: white;\n",
       "                    --jp-layout-color2: #454545;\n",
       "                    background-color: #383838;\n",
       "                }\n",
       "\n",
       "                .geemap-dark .jupyter-button {\n",
       "                    --jp-layout-color3: #383838;\n",
       "                }\n",
       "\n",
       "                .geemap-colab {\n",
       "                    background-color: var(--colab-primary-surface-color, white);\n",
       "                }\n",
       "\n",
       "                .geemap-colab .jupyter-button {\n",
       "                    --jp-layout-color3: var(--colab-primary-surface-color, white);\n",
       "                }\n",
       "            </style>\n",
       "            "
      ],
      "text/plain": [
       "<IPython.core.display.HTML object>"
      ]
     },
     "metadata": {},
     "output_type": "display_data"
    }
   ],
   "source": [
    "def maskS2clouds(image):\n",
    "    qa = image.select('QA60')\n",
    "    # Bits 10 and 11 are clouds and cirrus, respectively.\n",
    "    cloudBitMask = 1 << 10\n",
    "    cirrusBitMask = 1 << 11\n",
    "    # Both flags should be set to zero, indicating clear conditions.\n",
    "    mask = qa.bitwiseAnd(cloudBitMask).eq(0) \\\n",
    "        .And(qa.bitwiseAnd(cirrusBitMask).eq(0))\n",
    "    \n",
    "    return image.updateMask(mask).divide(10000) #re-scale \n"
   ]
  },
  {
   "cell_type": "code",
   "execution_count": 7,
   "id": "c13142ff",
   "metadata": {
    "scrolled": true
   },
   "outputs": [
    {
     "data": {
      "text/html": [
       "\n",
       "            <style>\n",
       "                .geemap-dark {\n",
       "                    --jp-widgets-color: white;\n",
       "                    --jp-widgets-label-color: white;\n",
       "                    --jp-ui-font-color1: white;\n",
       "                    --jp-layout-color2: #454545;\n",
       "                    background-color: #383838;\n",
       "                }\n",
       "\n",
       "                .geemap-dark .jupyter-button {\n",
       "                    --jp-layout-color3: #383838;\n",
       "                }\n",
       "\n",
       "                .geemap-colab {\n",
       "                    background-color: var(--colab-primary-surface-color, white);\n",
       "                }\n",
       "\n",
       "                .geemap-colab .jupyter-button {\n",
       "                    --jp-layout-color3: var(--colab-primary-surface-color, white);\n",
       "                }\n",
       "            </style>\n",
       "            "
      ],
      "text/plain": [
       "<IPython.core.display.HTML object>"
      ]
     },
     "metadata": {},
     "output_type": "display_data"
    },
    {
     "data": {
      "application/vnd.jupyter.widget-view+json": {
       "model_id": "b583e1fba51947b6b7051ddebbfb8fab",
       "version_major": 2,
       "version_minor": 0
      },
      "text/plain": [
       "Map(center=[-35.3, 149.12], controls=(WidgetControl(options=['position', 'transparent_bg'], widget=SearchDataG…"
      ]
     },
     "execution_count": 7,
     "metadata": {},
     "output_type": "execute_result"
    }
   ],
   "source": [
    "# Load sentinel 2\n",
    "S2 = (\n",
    "    ee.ImageCollection('COPERNICUS/S2_SR_HARMONIZED')\n",
    "    .filterBounds(geometry) #inly images that intersect our ROI\n",
    "    .filterDate('2020-09-01','2020-09-30') ### Note: you can try different dates\n",
    "    .map(maskS2clouds) #map the cloudmasking/rescaling function\n",
    "    .median() #collapse time-dimension using median statistic\n",
    "    .clip(geometry) #'clip' images to the ROI extent\n",
    ")\n",
    "\n",
    "#viualisation prams\n",
    "vis_params = {'min': 0, 'max': 0.4, 'bands': ['B4', 'B3', 'B2']}\n",
    "\n",
    "#add to map\n",
    "Map2 = geemap.Map(center=[-35.30, 149.12], zoom=13)\n",
    "Map2.add_basemap('Esri.WorldImagery')\n",
    "Map2.addLayer(geometry, {'alpha': 0.01}, 'Canberra ROI')\n",
    "Map2.addLayerControl()\n",
    "Map2.addLayer(S2, vis_params, 'Sentinel-2')\n",
    "Map2.addLayer(training_data.style(**{'styleProperty': 'style'}), {}, 'All training data')\n",
    "Map2"
   ]
  },
  {
   "cell_type": "markdown",
   "id": "9c35e34e",
   "metadata": {},
   "source": [
    "### Sample Imagery at training points to create training datasets\n",
    "Now that we have created the points and labels, we need to sample the Sentinel-2 imagery using `image.sampleRegions()`. This command will extract the reflectance values in the designated bands for each of the points you have created. \n",
    "\n",
    "We will then:\n",
    "* Select the bands for training\n",
    "* Sample the input imagery to get a FeatureCollection of training data"
   ]
  },
  {
   "cell_type": "code",
   "execution_count": 8,
   "id": "a16ca14e",
   "metadata": {},
   "outputs": [
    {
     "data": {
      "text/html": [
       "\n",
       "            <style>\n",
       "                .geemap-dark {\n",
       "                    --jp-widgets-color: white;\n",
       "                    --jp-widgets-label-color: white;\n",
       "                    --jp-ui-font-color1: white;\n",
       "                    --jp-layout-color2: #454545;\n",
       "                    background-color: #383838;\n",
       "                }\n",
       "\n",
       "                .geemap-dark .jupyter-button {\n",
       "                    --jp-layout-color3: #383838;\n",
       "                }\n",
       "\n",
       "                .geemap-colab {\n",
       "                    background-color: var(--colab-primary-surface-color, white);\n",
       "                }\n",
       "\n",
       "                .geemap-colab .jupyter-button {\n",
       "                    --jp-layout-color3: var(--colab-primary-surface-color, white);\n",
       "                }\n",
       "            </style>\n",
       "            "
      ],
      "text/plain": [
       "<IPython.core.display.HTML object>"
      ]
     },
     "metadata": {},
     "output_type": "display_data"
    }
   ],
   "source": [
    "# # select bands wanted to use in the classification\n",
    "bands = ['B2','B3','B4','B5','B6','B7','B8','B8A','B11','B12']"
   ]
  },
  {
   "cell_type": "code",
   "execution_count": 9,
   "id": "07b7fbeb",
   "metadata": {},
   "outputs": [
    {
     "data": {
      "text/html": [
       "\n",
       "            <style>\n",
       "                .geemap-dark {\n",
       "                    --jp-widgets-color: white;\n",
       "                    --jp-widgets-label-color: white;\n",
       "                    --jp-ui-font-color1: white;\n",
       "                    --jp-layout-color2: #454545;\n",
       "                    background-color: #383838;\n",
       "                }\n",
       "\n",
       "                .geemap-dark .jupyter-button {\n",
       "                    --jp-layout-color3: #383838;\n",
       "                }\n",
       "\n",
       "                .geemap-colab {\n",
       "                    background-color: var(--colab-primary-surface-color, white);\n",
       "                }\n",
       "\n",
       "                .geemap-colab .jupyter-button {\n",
       "                    --jp-layout-color3: var(--colab-primary-surface-color, white);\n",
       "                }\n",
       "            </style>\n",
       "            "
      ],
      "text/plain": [
       "<IPython.core.display.HTML object>"
      ]
     },
     "metadata": {},
     "output_type": "display_data"
    },
    {
     "name": "stdout",
     "output_type": "stream",
     "text": [
      "Size of full training data set: 349\n"
     ]
    }
   ],
   "source": [
    "# # correspond training data with S2 data\n",
    "# This property of the table stores the land cover labels.\n",
    "label = 'landcover'\n",
    "\n",
    "#sample the S2 data at the points\n",
    "gcp = S2.select(bands).sampleRegions(\n",
    "    **{'collection': training_data,\n",
    "       'properties': [label],\n",
    "        'scale': 20}\n",
    ")\n",
    "\n",
    "print(f'Size of full training data set: {gcp.size().getInfo()}')"
   ]
  },
  {
   "cell_type": "markdown",
   "id": "3968b60e",
   "metadata": {},
   "source": [
    "## Image Classification\n",
    "The <a href=\"https://developers.google.com/earth-engine/guides/classification\">Classifier</a> package contains the supervised classification machine learning algorithms in Earth Engine. In this part we will:\n",
    "* Instantiate a supervised classifier\n",
    "* Set its parameters, if necessary\n",
    "* Train the classifier using the training data\n",
    "* Classify an image using the trained algorithm\n",
    "* Display the classified map\n",
    "\n",
    "> Note: Here we used `Support Vector Machine` model for classification. You can also try different machine learning techniques"
   ]
  },
  {
   "cell_type": "code",
   "execution_count": 10,
   "id": "9160dec9",
   "metadata": {},
   "outputs": [
    {
     "data": {
      "text/html": [
       "\n",
       "            <style>\n",
       "                .geemap-dark {\n",
       "                    --jp-widgets-color: white;\n",
       "                    --jp-widgets-label-color: white;\n",
       "                    --jp-ui-font-color1: white;\n",
       "                    --jp-layout-color2: #454545;\n",
       "                    background-color: #383838;\n",
       "                }\n",
       "\n",
       "                .geemap-dark .jupyter-button {\n",
       "                    --jp-layout-color3: #383838;\n",
       "                }\n",
       "\n",
       "                .geemap-colab {\n",
       "                    background-color: var(--colab-primary-surface-color, white);\n",
       "                }\n",
       "\n",
       "                .geemap-colab .jupyter-button {\n",
       "                    --jp-layout-color3: var(--colab-primary-surface-color, white);\n",
       "                }\n",
       "            </style>\n",
       "            "
      ],
      "text/plain": [
       "<IPython.core.display.HTML object>"
      ]
     },
     "metadata": {},
     "output_type": "display_data"
    },
    {
     "data": {
      "application/vnd.jupyter.widget-view+json": {
       "model_id": "b583e1fba51947b6b7051ddebbfb8fab",
       "version_major": 2,
       "version_minor": 0
      },
      "text/plain": [
       "Map(bottom=2537791.0, center=[-35.31869697597375, 149.13863230190944], controls=(WidgetControl(options=['posit…"
      ]
     },
     "execution_count": 10,
     "metadata": {},
     "output_type": "execute_result"
    }
   ],
   "source": [
    "# train a Support Vector Machine classifier \n",
    "classifier = ee.Classifier.libsvm().train(**{\n",
    "  'features' : gcp,\n",
    "  'classProperty' : 'landcover',\n",
    "  'inputProperties' : bands\n",
    "})\n",
    "\n",
    "#classify the pixels in the image\n",
    "classified = S2.select(bands).classify(classifier)\n",
    "\n",
    "# quickly show the result using random colours\n",
    "Map2.addLayer(classified.randomVisualizer(), {}, 'Classified')\n",
    "Map2.addLayer(training_data.style(**{'styleProperty': 'style'}), {}, 'All training data')\n",
    "Map2"
   ]
  },
  {
   "cell_type": "markdown",
   "id": "e4fb7a52",
   "metadata": {},
   "source": [
    "## Accuracy assessment\n",
    "To assess the accuracy of a classifier use a Confusion Matrix (<a href=\"http://www.sciencedirect.com/science/article/pii/S0034425797000837\">Stehman 1997</a>) and we will also calculate overall accuracy (OA).\n",
    "\n",
    "A Confusion matrix is an N x N matrix used for evaluating the performance of a classification model, where N is the number of target classes. The matrix compares the actual target values with those predicted by a machine learning model."
   ]
  },
  {
   "cell_type": "code",
   "execution_count": 11,
   "id": "62c627b4",
   "metadata": {},
   "outputs": [
    {
     "data": {
      "text/html": [
       "\n",
       "            <style>\n",
       "                .geemap-dark {\n",
       "                    --jp-widgets-color: white;\n",
       "                    --jp-widgets-label-color: white;\n",
       "                    --jp-ui-font-color1: white;\n",
       "                    --jp-layout-color2: #454545;\n",
       "                    background-color: #383838;\n",
       "                }\n",
       "\n",
       "                .geemap-dark .jupyter-button {\n",
       "                    --jp-layout-color3: #383838;\n",
       "                }\n",
       "\n",
       "                .geemap-colab {\n",
       "                    background-color: var(--colab-primary-surface-color, white);\n",
       "                }\n",
       "\n",
       "                .geemap-colab .jupyter-button {\n",
       "                    --jp-layout-color3: var(--colab-primary-surface-color, white);\n",
       "                }\n",
       "            </style>\n",
       "            "
      ],
      "text/plain": [
       "<IPython.core.display.HTML object>"
      ]
     },
     "metadata": {},
     "output_type": "display_data"
    },
    {
     "data": {
      "text/plain": [
       "[[84, 3, 6, 0], [5, 75, 6, 0], [21, 1, 110, 0], [0, 0, 0, 38]]"
      ]
     },
     "execution_count": 11,
     "metadata": {},
     "output_type": "execute_result"
    }
   ],
   "source": [
    "# confusion matrix\n",
    "train_accuracy = classifier.confusionMatrix()\n",
    "train_accuracy.getInfo()"
   ]
  },
  {
   "cell_type": "markdown",
   "id": "d5fc4cf1-d2b6-4b30-9157-5af3d764c998",
   "metadata": {},
   "source": [
    "We can convert the `train_accuracy.getInfo()` results into a nicer looking (more readable) Pandas dataframe:"
   ]
  },
  {
   "cell_type": "code",
   "execution_count": 12,
   "id": "b3301525-7f26-45b8-98d9-5bc3a6d95961",
   "metadata": {},
   "outputs": [
    {
     "data": {
      "text/html": [
       "\n",
       "            <style>\n",
       "                .geemap-dark {\n",
       "                    --jp-widgets-color: white;\n",
       "                    --jp-widgets-label-color: white;\n",
       "                    --jp-ui-font-color1: white;\n",
       "                    --jp-layout-color2: #454545;\n",
       "                    background-color: #383838;\n",
       "                }\n",
       "\n",
       "                .geemap-dark .jupyter-button {\n",
       "                    --jp-layout-color3: #383838;\n",
       "                }\n",
       "\n",
       "                .geemap-colab {\n",
       "                    background-color: var(--colab-primary-surface-color, white);\n",
       "                }\n",
       "\n",
       "                .geemap-colab .jupyter-button {\n",
       "                    --jp-layout-color3: var(--colab-primary-surface-color, white);\n",
       "                }\n",
       "            </style>\n",
       "            "
      ],
      "text/plain": [
       "<IPython.core.display.HTML object>"
      ]
     },
     "metadata": {},
     "output_type": "display_data"
    },
    {
     "data": {
      "text/html": [
       "<div>\n",
       "<style scoped>\n",
       "    .dataframe tbody tr th:only-of-type {\n",
       "        vertical-align: middle;\n",
       "    }\n",
       "\n",
       "    .dataframe tbody tr th {\n",
       "        vertical-align: top;\n",
       "    }\n",
       "\n",
       "    .dataframe thead th {\n",
       "        text-align: right;\n",
       "    }\n",
       "</style>\n",
       "<table border=\"1\" class=\"dataframe\">\n",
       "  <thead>\n",
       "    <tr style=\"text-align: right;\">\n",
       "      <th>PREDICTION</th>\n",
       "      <th>highveg</th>\n",
       "      <th>lowveg</th>\n",
       "      <th>urban</th>\n",
       "      <th>water</th>\n",
       "      <th>TOTAL</th>\n",
       "    </tr>\n",
       "    <tr>\n",
       "      <th>ACTUAL</th>\n",
       "      <th></th>\n",
       "      <th></th>\n",
       "      <th></th>\n",
       "      <th></th>\n",
       "      <th></th>\n",
       "    </tr>\n",
       "  </thead>\n",
       "  <tbody>\n",
       "    <tr>\n",
       "      <th>highveg</th>\n",
       "      <td>84.0</td>\n",
       "      <td>3.0</td>\n",
       "      <td>6.0</td>\n",
       "      <td>0.0</td>\n",
       "      <td>93.0</td>\n",
       "    </tr>\n",
       "    <tr>\n",
       "      <th>lowveg</th>\n",
       "      <td>5.0</td>\n",
       "      <td>75.0</td>\n",
       "      <td>6.0</td>\n",
       "      <td>0.0</td>\n",
       "      <td>86.0</td>\n",
       "    </tr>\n",
       "    <tr>\n",
       "      <th>urban</th>\n",
       "      <td>21.0</td>\n",
       "      <td>1.0</td>\n",
       "      <td>110.0</td>\n",
       "      <td>0.0</td>\n",
       "      <td>132.0</td>\n",
       "    </tr>\n",
       "    <tr>\n",
       "      <th>water</th>\n",
       "      <td>0.0</td>\n",
       "      <td>0.0</td>\n",
       "      <td>0.0</td>\n",
       "      <td>38.0</td>\n",
       "      <td>38.0</td>\n",
       "    </tr>\n",
       "    <tr>\n",
       "      <th>TOTAL</th>\n",
       "      <td>110.0</td>\n",
       "      <td>79.0</td>\n",
       "      <td>122.0</td>\n",
       "      <td>38.0</td>\n",
       "      <td>349.0</td>\n",
       "    </tr>\n",
       "  </tbody>\n",
       "</table>\n",
       "</div>"
      ],
      "text/plain": [
       "PREDICTION  highveg  lowveg  urban  water  TOTAL\n",
       "ACTUAL                                          \n",
       "highveg        84.0     3.0    6.0    0.0   93.0\n",
       "lowveg          5.0    75.0    6.0    0.0   86.0\n",
       "urban          21.0     1.0  110.0    0.0  132.0\n",
       "water           0.0     0.0    0.0   38.0   38.0\n",
       "TOTAL         110.0    79.0  122.0   38.0  349.0"
      ]
     },
     "execution_count": 12,
     "metadata": {},
     "output_type": "execute_result"
    }
   ],
   "source": [
    "df_matrix = pd.DataFrame(train_accuracy.getInfo())\n",
    "df_matrix.columns.name = 'PREDICTION'\n",
    "df_matrix.index.name = 'ACTUAL'\n",
    "df_matrix.loc['TOTAL',:]= df_matrix.sum(axis=0)\n",
    "#Total sum per row: \n",
    "df_matrix.loc[:,'TOTAL'] = df_matrix.sum(axis=1)\n",
    "df_matrix=df_matrix.rename(columns={0:'highveg', 1:'lowveg', 2:'urban', 3:'water'},\n",
    "             index={0:'highveg', 1:'lowveg', 2:'urban', 3:'water'})\n",
    "df_matrix"
   ]
  },
  {
   "cell_type": "markdown",
   "id": "dc7edbc1-5e7b-4e1d-8cd7-d530522422a7",
   "metadata": {},
   "source": [
    "Now, let's print the overall accuracy"
   ]
  },
  {
   "cell_type": "code",
   "execution_count": 13,
   "id": "c6cf12c8",
   "metadata": {},
   "outputs": [
    {
     "data": {
      "text/html": [
       "\n",
       "            <style>\n",
       "                .geemap-dark {\n",
       "                    --jp-widgets-color: white;\n",
       "                    --jp-widgets-label-color: white;\n",
       "                    --jp-ui-font-color1: white;\n",
       "                    --jp-layout-color2: #454545;\n",
       "                    background-color: #383838;\n",
       "                }\n",
       "\n",
       "                .geemap-dark .jupyter-button {\n",
       "                    --jp-layout-color3: #383838;\n",
       "                }\n",
       "\n",
       "                .geemap-colab {\n",
       "                    background-color: var(--colab-primary-surface-color, white);\n",
       "                }\n",
       "\n",
       "                .geemap-colab .jupyter-button {\n",
       "                    --jp-layout-color3: var(--colab-primary-surface-color, white);\n",
       "                }\n",
       "            </style>\n",
       "            "
      ],
      "text/plain": [
       "<IPython.core.display.HTML object>"
      ]
     },
     "metadata": {},
     "output_type": "display_data"
    },
    {
     "name": "stdout",
     "output_type": "stream",
     "text": [
      "Overall classification accuracy of the model is: 87.97 %\n"
     ]
    }
   ],
   "source": [
    "# overall accuracy\n",
    "print(f'Overall classification accuracy of the model is: {train_accuracy.accuracy().getInfo()*100:.2f} %')"
   ]
  },
  {
   "cell_type": "markdown",
   "id": "cdd3bd70",
   "metadata": {},
   "source": [
    "## Split the samples into training/test sets\n",
    "The goal here is to split up the training sample into training data (70% of the total sample) and validation data (30% of the total data) (with randomization). The training set is used to train the model and test set is used to validate it. This is best practice in the machine learning community."
   ]
  },
  {
   "cell_type": "code",
   "execution_count": 14,
   "id": "d63f2605",
   "metadata": {},
   "outputs": [
    {
     "data": {
      "text/html": [
       "\n",
       "            <style>\n",
       "                .geemap-dark {\n",
       "                    --jp-widgets-color: white;\n",
       "                    --jp-widgets-label-color: white;\n",
       "                    --jp-ui-font-color1: white;\n",
       "                    --jp-layout-color2: #454545;\n",
       "                    background-color: #383838;\n",
       "                }\n",
       "\n",
       "                .geemap-dark .jupyter-button {\n",
       "                    --jp-layout-color3: #383838;\n",
       "                }\n",
       "\n",
       "                .geemap-colab {\n",
       "                    background-color: var(--colab-primary-surface-color, white);\n",
       "                }\n",
       "\n",
       "                .geemap-colab .jupyter-button {\n",
       "                    --jp-layout-color3: var(--colab-primary-surface-color, white);\n",
       "                }\n",
       "            </style>\n",
       "            "
      ],
      "text/plain": [
       "<IPython.core.display.HTML object>"
      ]
     },
     "metadata": {},
     "output_type": "display_data"
    },
    {
     "name": "stdout",
     "output_type": "stream",
     "text": [
      "Training data size:  248\n",
      "Validation data size:  101\n"
     ]
    }
   ],
   "source": [
    "# This property of the table stores the land cover labels.\n",
    "label = 'landcover'\n",
    "\n",
    "# Add a random column and split the GCPs into training and validation set\n",
    "gcp = training_data.randomColumn()\n",
    "\n",
    "# This being a simpler classification, we take 30% points\n",
    "# for validation.\n",
    "trainingGcp = gcp.filter('random <= 0.7')\n",
    "validationGcp = gcp.filter('random > 0.7')\n",
    "\n",
    "Map2.addLayer(validationGcp.style(**{'styleProperty': 'style'}), {}, 'Valildation points')\n",
    "\n",
    "# # Overlay the point on the image to get training data.\n",
    "composite = S2.select(bands)\n",
    "training = composite.sampleRegions(\n",
    "    **{\n",
    "  'collection': trainingGcp,\n",
    "  'properties': [label],\n",
    "  'scale': 20}\n",
    ")\n",
    "\n",
    "print('Training data size: ', training.size().getInfo())\n",
    "print('Validation data size: ',validationGcp.size().getInfo())"
   ]
  },
  {
   "cell_type": "markdown",
   "id": "2b6ce004-06ce-443c-b34c-5a8087c9c3be",
   "metadata": {},
   "source": [
    "Now we will reclassify the image using only the 70 % training data"
   ]
  },
  {
   "cell_type": "code",
   "execution_count": 15,
   "id": "309c72ae",
   "metadata": {},
   "outputs": [
    {
     "data": {
      "text/html": [
       "\n",
       "            <style>\n",
       "                .geemap-dark {\n",
       "                    --jp-widgets-color: white;\n",
       "                    --jp-widgets-label-color: white;\n",
       "                    --jp-ui-font-color1: white;\n",
       "                    --jp-layout-color2: #454545;\n",
       "                    background-color: #383838;\n",
       "                }\n",
       "\n",
       "                .geemap-dark .jupyter-button {\n",
       "                    --jp-layout-color3: #383838;\n",
       "                }\n",
       "\n",
       "                .geemap-colab {\n",
       "                    background-color: var(--colab-primary-surface-color, white);\n",
       "                }\n",
       "\n",
       "                .geemap-colab .jupyter-button {\n",
       "                    --jp-layout-color3: var(--colab-primary-surface-color, white);\n",
       "                }\n",
       "            </style>\n",
       "            "
      ],
      "text/plain": [
       "<IPython.core.display.HTML object>"
      ]
     },
     "metadata": {},
     "output_type": "display_data"
    },
    {
     "data": {
      "application/vnd.jupyter.widget-view+json": {
       "model_id": "b583e1fba51947b6b7051ddebbfb8fab",
       "version_major": 2,
       "version_minor": 0
      },
      "text/plain": [
       "Map(bottom=2537791.0, center=[-35.31869697597375, 149.13863230190944], controls=(WidgetControl(options=['posit…"
      ]
     },
     "execution_count": 15,
     "metadata": {},
     "output_type": "execute_result"
    }
   ],
   "source": [
    "# # classifier\n",
    "classifier1 = ee.Classifier.libsvm().train(**{\n",
    "  'features' : training,\n",
    "  'classProperty' : 'landcover',\n",
    "  'inputProperties' : bands\n",
    "})\n",
    "\n",
    "classified = composite.classify(classifier1)\n",
    "\n",
    "# # Display the clusters with random colors.\n",
    "Map2.addLayer(classified.randomVisualizer(), {}, 'Classified - training subset')\n",
    "Map2.addLayer(trainingGcp.style(**{'styleProperty': 'style'}), {}, 'Training subset')\n",
    "Map2"
   ]
  },
  {
   "cell_type": "markdown",
   "id": "81a40a9c",
   "metadata": {},
   "source": [
    "### Accuracy assessment\n",
    "\n",
    "We can now conduct a similar accuracy assessment to the one we previously did, but this time using only the validation samples to test the accuracy (these validation samples were not used in the training of the classifier) "
   ]
  },
  {
   "cell_type": "code",
   "execution_count": 16,
   "id": "a861054f",
   "metadata": {},
   "outputs": [
    {
     "data": {
      "text/html": [
       "\n",
       "            <style>\n",
       "                .geemap-dark {\n",
       "                    --jp-widgets-color: white;\n",
       "                    --jp-widgets-label-color: white;\n",
       "                    --jp-ui-font-color1: white;\n",
       "                    --jp-layout-color2: #454545;\n",
       "                    background-color: #383838;\n",
       "                }\n",
       "\n",
       "                .geemap-dark .jupyter-button {\n",
       "                    --jp-layout-color3: #383838;\n",
       "                }\n",
       "\n",
       "                .geemap-colab {\n",
       "                    background-color: var(--colab-primary-surface-color, white);\n",
       "                }\n",
       "\n",
       "                .geemap-colab .jupyter-button {\n",
       "                    --jp-layout-color3: var(--colab-primary-surface-color, white);\n",
       "                }\n",
       "            </style>\n",
       "            "
      ],
      "text/plain": [
       "<IPython.core.display.HTML object>"
      ]
     },
     "metadata": {},
     "output_type": "display_data"
    },
    {
     "name": "stdout",
     "output_type": "stream",
     "text": [
      "101\n"
     ]
    }
   ],
   "source": [
    "# # # Accuracy Assessment\n",
    "test = classified.sampleRegions(\n",
    "    **{\n",
    "  'collection': validationGcp,\n",
    "  'properties': [label],\n",
    "  'scale': 10}\n",
    ")\n",
    "print(test.size().getInfo())"
   ]
  },
  {
   "cell_type": "code",
   "execution_count": 17,
   "id": "1f20fbf5",
   "metadata": {},
   "outputs": [
    {
     "data": {
      "text/html": [
       "\n",
       "            <style>\n",
       "                .geemap-dark {\n",
       "                    --jp-widgets-color: white;\n",
       "                    --jp-widgets-label-color: white;\n",
       "                    --jp-ui-font-color1: white;\n",
       "                    --jp-layout-color2: #454545;\n",
       "                    background-color: #383838;\n",
       "                }\n",
       "\n",
       "                .geemap-dark .jupyter-button {\n",
       "                    --jp-layout-color3: #383838;\n",
       "                }\n",
       "\n",
       "                .geemap-colab {\n",
       "                    background-color: var(--colab-primary-surface-color, white);\n",
       "                }\n",
       "\n",
       "                .geemap-colab .jupyter-button {\n",
       "                    --jp-layout-color3: var(--colab-primary-surface-color, white);\n",
       "                }\n",
       "            </style>\n",
       "            "
      ],
      "text/plain": [
       "<IPython.core.display.HTML object>"
      ]
     },
     "metadata": {},
     "output_type": "display_data"
    },
    {
     "data": {
      "text/html": [
       "<div>\n",
       "<style scoped>\n",
       "    .dataframe tbody tr th:only-of-type {\n",
       "        vertical-align: middle;\n",
       "    }\n",
       "\n",
       "    .dataframe tbody tr th {\n",
       "        vertical-align: top;\n",
       "    }\n",
       "\n",
       "    .dataframe thead th {\n",
       "        text-align: right;\n",
       "    }\n",
       "</style>\n",
       "<table border=\"1\" class=\"dataframe\">\n",
       "  <thead>\n",
       "    <tr style=\"text-align: right;\">\n",
       "      <th>PREDICTION</th>\n",
       "      <th>highveg</th>\n",
       "      <th>lowveg</th>\n",
       "      <th>urban</th>\n",
       "      <th>water</th>\n",
       "      <th>TOTAL</th>\n",
       "    </tr>\n",
       "    <tr>\n",
       "      <th>ACTUAL</th>\n",
       "      <th></th>\n",
       "      <th></th>\n",
       "      <th></th>\n",
       "      <th></th>\n",
       "      <th></th>\n",
       "    </tr>\n",
       "  </thead>\n",
       "  <tbody>\n",
       "    <tr>\n",
       "      <th>highveg</th>\n",
       "      <td>26.0</td>\n",
       "      <td>0.0</td>\n",
       "      <td>0.0</td>\n",
       "      <td>0.0</td>\n",
       "      <td>26.0</td>\n",
       "    </tr>\n",
       "    <tr>\n",
       "      <th>lowveg</th>\n",
       "      <td>5.0</td>\n",
       "      <td>21.0</td>\n",
       "      <td>0.0</td>\n",
       "      <td>0.0</td>\n",
       "      <td>26.0</td>\n",
       "    </tr>\n",
       "    <tr>\n",
       "      <th>urban</th>\n",
       "      <td>5.0</td>\n",
       "      <td>0.0</td>\n",
       "      <td>32.0</td>\n",
       "      <td>0.0</td>\n",
       "      <td>37.0</td>\n",
       "    </tr>\n",
       "    <tr>\n",
       "      <th>water</th>\n",
       "      <td>0.0</td>\n",
       "      <td>0.0</td>\n",
       "      <td>0.0</td>\n",
       "      <td>12.0</td>\n",
       "      <td>12.0</td>\n",
       "    </tr>\n",
       "    <tr>\n",
       "      <th>TOTAL</th>\n",
       "      <td>36.0</td>\n",
       "      <td>21.0</td>\n",
       "      <td>32.0</td>\n",
       "      <td>12.0</td>\n",
       "      <td>101.0</td>\n",
       "    </tr>\n",
       "  </tbody>\n",
       "</table>\n",
       "</div>"
      ],
      "text/plain": [
       "PREDICTION  highveg  lowveg  urban  water  TOTAL\n",
       "ACTUAL                                          \n",
       "highveg        26.0     0.0    0.0    0.0   26.0\n",
       "lowveg          5.0    21.0    0.0    0.0   26.0\n",
       "urban           5.0     0.0   32.0    0.0   37.0\n",
       "water           0.0     0.0    0.0   12.0   12.0\n",
       "TOTAL          36.0    21.0   32.0   12.0  101.0"
      ]
     },
     "execution_count": 17,
     "metadata": {},
     "output_type": "execute_result"
    }
   ],
   "source": [
    "# # # confusion matrix\n",
    "test_accuracy = test.errorMatrix('landcover', 'classification')\n",
    "test_accuracy.getInfo()\n",
    "\n",
    "df_matrix = pd.DataFrame(test_accuracy.getInfo())\n",
    "df_matrix.columns.name = 'PREDICTION'\n",
    "df_matrix.index.name = 'ACTUAL'\n",
    "df_matrix.loc['TOTAL',:]= df_matrix.sum(axis=0)\n",
    "#Total sum per row: \n",
    "df_matrix.loc[:,'TOTAL'] = df_matrix.sum(axis=1)\n",
    "df_matrix=df_matrix.rename(columns={0:'highveg', 1:'lowveg', 2:'urban', 3:'water'},\n",
    "             index={0:'highveg', 1:'lowveg', 2:'urban', 3:'water'})\n",
    "df_matrix"
   ]
  },
  {
   "cell_type": "code",
   "execution_count": 18,
   "id": "ead5a21a",
   "metadata": {},
   "outputs": [
    {
     "data": {
      "text/html": [
       "\n",
       "            <style>\n",
       "                .geemap-dark {\n",
       "                    --jp-widgets-color: white;\n",
       "                    --jp-widgets-label-color: white;\n",
       "                    --jp-ui-font-color1: white;\n",
       "                    --jp-layout-color2: #454545;\n",
       "                    background-color: #383838;\n",
       "                }\n",
       "\n",
       "                .geemap-dark .jupyter-button {\n",
       "                    --jp-layout-color3: #383838;\n",
       "                }\n",
       "\n",
       "                .geemap-colab {\n",
       "                    background-color: var(--colab-primary-surface-color, white);\n",
       "                }\n",
       "\n",
       "                .geemap-colab .jupyter-button {\n",
       "                    --jp-layout-color3: var(--colab-primary-surface-color, white);\n",
       "                }\n",
       "            </style>\n",
       "            "
      ],
      "text/plain": [
       "<IPython.core.display.HTML object>"
      ]
     },
     "metadata": {},
     "output_type": "display_data"
    },
    {
     "name": "stdout",
     "output_type": "stream",
     "text": [
      "Overall classification accuracy of the model is: 90.10 %\n"
     ]
    }
   ],
   "source": [
    "# overall accuracy\n",
    "print(f'Overall classification accuracy of the model is: {test_accuracy.accuracy().getInfo()*100:.2f} %')"
   ]
  },
  {
   "cell_type": "markdown",
   "id": "e7566366-8a30-492f-8742-cd3e7470d14d",
   "metadata": {},
   "source": [
    "## Reference\n",
    "[ENGN3903 - Environmental Sensing, Mapping and Modelling](https://github.com/nicolasyounes/engn3903/tree/main) "
   ]
  },
  {
   "cell_type": "code",
   "execution_count": null,
   "id": "3a545478-9781-4639-8851-c8a5d8305fac",
   "metadata": {},
   "outputs": [],
   "source": []
  }
 ],
 "metadata": {
  "kernelspec": {
   "display_name": "Python 3 (ipykernel)",
   "language": "python",
   "name": "python3"
  },
  "language_info": {
   "codemirror_mode": {
    "name": "ipython",
    "version": 3
   },
   "file_extension": ".py",
   "mimetype": "text/x-python",
   "name": "python",
   "nbconvert_exporter": "python",
   "pygments_lexer": "ipython3",
   "version": "3.9.2"
  },
  "widgets": {
   "application/vnd.jupyter.widget-state+json": {
    "state": {},
    "version_major": 2,
    "version_minor": 0
   }
  }
 },
 "nbformat": 4,
 "nbformat_minor": 5
}
